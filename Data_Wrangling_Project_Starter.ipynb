{
 "cells": [
  {
   "cell_type": "markdown",
   "metadata": {
    "id": "GNIwe5N7s0e_"
   },
   "source": [
    "# Real-world Data Wrangling"
   ]
  },
  {
   "cell_type": "markdown",
   "metadata": {
    "id": "_BG63Tpg8ep_"
   },
   "source": [
    "In this project, you will apply the skills you acquired in the course to gather and wrangle real-world data with two datasets of your choice.\n",
    "\n",
    "You will retrieve and extract the data, assess the data programmatically and visually, accross elements of data quality and structure, and implement a cleaning strategy for the data. You will then store the updated data into your selected database/data store, combine the data, and answer a research question with the datasets.\n",
    "\n",
    "Throughout the process, you are expected to:\n",
    "\n",
    "1. Explain your decisions towards methods used for gathering, assessing, cleaning, storing, and answering the research question\n",
    "2. Write code comments so your code is more readable"
   ]
  },
  {
   "cell_type": "markdown",
   "metadata": {
    "id": "lDYDkH-Zs7Nn"
   },
   "source": [
    "## 1. Gather data\n",
    "\n",
    "In this section, you will extract data using two different data gathering methods and combine the data. Use at least two different types of data-gathering methods."
   ]
  },
  {
   "cell_type": "markdown",
   "metadata": {
    "id": "LbN7z7rcuqpO"
   },
   "source": [
    "### **1.1.** Problem Statement\n",
    "In 2-4 sentences, explain the kind of problem you want to look at and the datasets you will be wrangling for this project."
   ]
  },
  {
   "cell_type": "markdown",
   "metadata": {
    "id": "gi6swhjSYqu2"
   },
   "source": [
    "The impact of ambient particular matters (PMs) to human health has become of practical interest in many fields of industrial consultancy. To address this ever-increasing environmental concern, this project focuses on two typical PMs with the sizes of 2.5$\\mu$m (PM$_{2.5}$) and 10$\\mu$m (PM$_{10}$), to investigate how the amibent PMs levels relate to the local water temperaure and humidity. The invesitgation is based on the montoring data from Sydney Water Temperature and Humidty 'https://data.penrith.city/api/explore/v2.1/catalog/datasets/sydney-water-temperature-and-humidity-30mn-aggregation-2022/exports/csv?lang=en&timezone=Australia%2FSydney&use_labels=true&delimiter=%2C' and New South Wales Air Quality Monitor Station (NSW AQMS) https://www.airquality.nsw.gov.au/air-quality-data-services/data-download-facility at Penrith Council area. "
   ]
  },
  {
   "cell_type": "markdown",
   "metadata": {
    "id": "8AQfBAdUypMm"
   },
   "source": [
    "### **1.2.** Gather at least two datasets using two different data gathering methods\n",
    "\n",
    "List of data gathering methods:\n",
    "\n",
    "- Download data manually\n",
    "- Programmatically downloading files\n",
    "- Gather data by accessing APIs\n",
    "- Gather and extract data from HTML files using BeautifulSoup\n",
    "- Extract data from a SQL database\n",
    "\n",
    "Each dataset must have at least two variables, and have greater than 500 data samples within each dataset.\n",
    "\n",
    "For each dataset, briefly describe why you picked the dataset and the gathering method (2-3 full sentences), including the names and significance of the variables in the dataset. Show your work (e.g., if using an API to download the data, please include a snippet of your code). \n",
    "\n",
    "Load the dataset programmtically into this notebook."
   ]
  },
  {
   "cell_type": "markdown",
   "metadata": {
    "id": "7e6gS0wL1KTu"
   },
   "source": [
    "#### **Dataset 1**\n",
    "\n",
    "Type: .csv file (e.g., CSV File.)\n",
    "\n",
    "Method: The data was programmatically downloaded via url link ('https://data.penrith.city/api/explore/v2.1/catalog/datasets/sydney-water-temperature-and-humidity-30mn-aggregation-2022/exports/csv?lang=en&timezone=Australia%2FSydney&use_labels=true&delimiter=%2C')\n",
    "\n",
    "Dataset variables:\n",
    "\n",
    "*   Time: the time that the data was collected by the device\n",
    "*   Device name: the device that collected the data\n",
    "*   Day Of Week: the day of week at the collecting time\n",
    "*   Temperature ($^o$C): Measured instantaneous water temperature\n",
    "*   Humidity (%): Measured instantaneous humidity\n",
    "*   Geolocation: lattitude and longitude of the device location\n",
    "*   LGA: Local government area\n",
    "\n",
    "This dataset stored the monitored local water temperature and humidity in Penrith in 2022, which gives the two parameters of interest, water temperature and humidity. The dataset gives a valuable time granularity (30mins per record), which is comparable to the hourly PMs concentrations -- a widely used averaging period in enviromental industry."
   ]
  },
  {
   "cell_type": "code",
   "execution_count": 1,
   "metadata": {},
   "outputs": [],
   "source": [
    "import requests\n",
    "import pandas as pd\n",
    "import numpy as np\n",
    "import matplotlib.pyplot as plt\n",
    "pd.set_option('display.max_columns', None)"
   ]
  },
  {
   "cell_type": "markdown",
   "metadata": {},
   "source": [
    "#### The following code was initally active when programmatically downloading the raw data. To minimise the cost of time, the data is then stored locally."
   ]
  },
  {
   "cell_type": "code",
   "execution_count": 2,
   "metadata": {
    "id": "Su8E0uLuYkHU"
   },
   "outputs": [],
   "source": [
    "# FILL IN 1st data gathering and loading method\n",
    "url = 'https://data.penrith.city/api/explore/v2.1/catalog/datasets/sydney-water-temperature-and-humidity-30mn-aggregation-2022/exports/csv?lang=en&timezone=Australia%2FSydney&use_labels=true&delimiter=%2C'\n",
    "df1 = pd.read_csv(url)\n"
   ]
  },
  {
   "cell_type": "markdown",
   "metadata": {},
   "source": [
    "#### Save the original data locally so that I don't need to zone out waiting for it to be downloaded."
   ]
  },
  {
   "cell_type": "code",
   "execution_count": 3,
   "metadata": {},
   "outputs": [],
   "source": [
    "# df1.to_csv('sydney_water_temp_hum_v0.csv',index=False)"
   ]
  },
  {
   "cell_type": "code",
   "execution_count": 4,
   "metadata": {},
   "outputs": [
    {
     "name": "stdout",
     "output_type": "stream",
     "text": [
      "Data_Wrangling_Project_Starter.ipynb\r\n",
      "cleaned_hourly_avg_pm_v2.csv\r\n",
      "cleaned_merged_sydney_water_temp_hum_n_hourly_avg_pm_v3.csv\r\n",
      "cleaned_sydney_water_temp_hum_v2.csv\r\n",
      "hourly_avg_pm_v0.csv\r\n",
      "hourly_avg_pm_v1.csv\r\n",
      "sydney_water_temp_hum_v0.csv\r\n",
      "sydney_water_temp_hum_v1.csv\r\n"
     ]
    }
   ],
   "source": [
    "%ls"
   ]
  },
  {
   "cell_type": "markdown",
   "metadata": {},
   "source": [
    "#### Now I can load the orignal Dataset 1 locally, much faster."
   ]
  },
  {
   "cell_type": "code",
   "execution_count": 5,
   "metadata": {},
   "outputs": [],
   "source": [
    "# df1 = pd.read_csv('sydney_water_temp_hum_v0.csv',index_col=False)"
   ]
  },
  {
   "cell_type": "code",
   "execution_count": 6,
   "metadata": {},
   "outputs": [
    {
     "data": {
      "text/html": [
       "<div>\n",
       "<style scoped>\n",
       "    .dataframe tbody tr th:only-of-type {\n",
       "        vertical-align: middle;\n",
       "    }\n",
       "\n",
       "    .dataframe tbody tr th {\n",
       "        vertical-align: top;\n",
       "    }\n",
       "\n",
       "    .dataframe thead th {\n",
       "        text-align: right;\n",
       "    }\n",
       "</style>\n",
       "<table border=\"1\" class=\"dataframe\">\n",
       "  <thead>\n",
       "    <tr style=\"text-align: right;\">\n",
       "      <th></th>\n",
       "      <th>Time</th>\n",
       "      <th>Device name</th>\n",
       "      <th>Day Of Week</th>\n",
       "      <th>Temperature (°C)</th>\n",
       "      <th>Humidity (%)</th>\n",
       "      <th>Geolocation</th>\n",
       "      <th>LGA</th>\n",
       "    </tr>\n",
       "  </thead>\n",
       "  <tbody>\n",
       "    <tr>\n",
       "      <th>0</th>\n",
       "      <td>2022-07-19T20:00:00+10:00</td>\n",
       "      <td>Caddens Oval - North-West</td>\n",
       "      <td>Tuesday</td>\n",
       "      <td>9.344149</td>\n",
       "      <td>96.539062</td>\n",
       "      <td>-33.77534677981919, 150.7385496710238</td>\n",
       "      <td>Penrith City Council</td>\n",
       "    </tr>\n",
       "    <tr>\n",
       "      <th>1</th>\n",
       "      <td>2022-07-19T20:00:00+10:00</td>\n",
       "      <td>Irwin St - South</td>\n",
       "      <td>Tuesday</td>\n",
       "      <td>9.773153</td>\n",
       "      <td>95.074219</td>\n",
       "      <td>-33.75283688697697, 150.7563883927052</td>\n",
       "      <td>Penrith City Council</td>\n",
       "    </tr>\n",
       "    <tr>\n",
       "      <th>2</th>\n",
       "      <td>2022-07-19T20:00:00+10:00</td>\n",
       "      <td>Water Gum Dr</td>\n",
       "      <td>Tuesday</td>\n",
       "      <td>9.656518</td>\n",
       "      <td>94.585938</td>\n",
       "      <td>-33.725953, 150.72338253</td>\n",
       "      <td>Penrith City Council</td>\n",
       "    </tr>\n",
       "    <tr>\n",
       "      <th>3</th>\n",
       "      <td>2022-03-17T14:30:00+11:00</td>\n",
       "      <td>Parkes Av - Middle</td>\n",
       "      <td>Thursday</td>\n",
       "      <td>27.015088</td>\n",
       "      <td>65.777344</td>\n",
       "      <td>-33.75351902695962, 150.7573530994433</td>\n",
       "      <td>Penrith City Council</td>\n",
       "    </tr>\n",
       "    <tr>\n",
       "      <th>4</th>\n",
       "      <td>2022-03-17T14:30:00+11:00</td>\n",
       "      <td>Eileen Cammack Res - NW</td>\n",
       "      <td>Thursday</td>\n",
       "      <td>28.290034</td>\n",
       "      <td>99.957031</td>\n",
       "      <td>-33.775311802244, 150.6937540223574</td>\n",
       "      <td>Penrith City Council</td>\n",
       "    </tr>\n",
       "  </tbody>\n",
       "</table>\n",
       "</div>"
      ],
      "text/plain": [
       "                        Time                Device name Day Of Week  \\\n",
       "0  2022-07-19T20:00:00+10:00  Caddens Oval - North-West     Tuesday   \n",
       "1  2022-07-19T20:00:00+10:00           Irwin St - South     Tuesday   \n",
       "2  2022-07-19T20:00:00+10:00               Water Gum Dr     Tuesday   \n",
       "3  2022-03-17T14:30:00+11:00         Parkes Av - Middle    Thursday   \n",
       "4  2022-03-17T14:30:00+11:00    Eileen Cammack Res - NW    Thursday   \n",
       "\n",
       "   Temperature (°C)  Humidity (%)                            Geolocation  \\\n",
       "0          9.344149     96.539062  -33.77534677981919, 150.7385496710238   \n",
       "1          9.773153     95.074219  -33.75283688697697, 150.7563883927052   \n",
       "2          9.656518     94.585938               -33.725953, 150.72338253   \n",
       "3         27.015088     65.777344  -33.75351902695962, 150.7573530994433   \n",
       "4         28.290034     99.957031    -33.775311802244, 150.6937540223574   \n",
       "\n",
       "                    LGA  \n",
       "0  Penrith City Council  \n",
       "1  Penrith City Council  \n",
       "2  Penrith City Council  \n",
       "3  Penrith City Council  \n",
       "4  Penrith City Council  "
      ]
     },
     "execution_count": 6,
     "metadata": {},
     "output_type": "execute_result"
    }
   ],
   "source": [
    "df1.head(5)"
   ]
  },
  {
   "cell_type": "markdown",
   "metadata": {},
   "source": [
    "#### As shown above, the data downloaded via the url has complicated column head names which makes calling the dataframe columns more difficult. To facilitate further data analysis, the column names are reformated and saved locally as follows."
   ]
  },
  {
   "cell_type": "code",
   "execution_count": 7,
   "metadata": {},
   "outputs": [],
   "source": [
    "# remove the brackets in the column names\n",
    "df1.columns = df1.columns.str.replace(r'\\([^)]*\\)', '', regex=True)"
   ]
  },
  {
   "cell_type": "code",
   "execution_count": 8,
   "metadata": {},
   "outputs": [
    {
     "data": {
      "text/plain": [
       "Index(['time', 'device_name', 'day_of_week', 'temperature', 'humidity',\n",
       "       'geolocation', 'lga'],\n",
       "      dtype='object')"
      ]
     },
     "execution_count": 8,
     "metadata": {},
     "output_type": "execute_result"
    }
   ],
   "source": [
    "# remove spaces at the head and tail of the name\n",
    "df1.columns = df1.columns.str.strip()\n",
    "# replace spaces in between with underscores\n",
    "df1.columns = df1.columns.str.replace(' ','_')\n",
    "# lower the letters\n",
    "df1.columns = df1.columns.str.lower()\n",
    "# check the column names\n",
    "df1.columns"
   ]
  },
  {
   "cell_type": "markdown",
   "metadata": {},
   "source": [
    "#### Store the new-column-name Dataset 1 locally"
   ]
  },
  {
   "cell_type": "code",
   "execution_count": 9,
   "metadata": {},
   "outputs": [],
   "source": [
    "# df1.to_csv('sydney_water_temp_hum_v1.csv')"
   ]
  },
  {
   "cell_type": "code",
   "execution_count": 10,
   "metadata": {},
   "outputs": [
    {
     "name": "stdout",
     "output_type": "stream",
     "text": [
      "Data_Wrangling_Project_Starter.ipynb\r\n",
      "cleaned_hourly_avg_pm_v2.csv\r\n",
      "cleaned_merged_sydney_water_temp_hum_n_hourly_avg_pm_v3.csv\r\n",
      "cleaned_sydney_water_temp_hum_v2.csv\r\n",
      "hourly_avg_pm_v0.csv\r\n",
      "hourly_avg_pm_v1.csv\r\n",
      "sydney_water_temp_hum_v0.csv\r\n",
      "sydney_water_temp_hum_v1.csv\r\n"
     ]
    }
   ],
   "source": [
    "%ls"
   ]
  },
  {
   "cell_type": "code",
   "execution_count": 11,
   "metadata": {},
   "outputs": [
    {
     "data": {
      "text/html": [
       "<div>\n",
       "<style scoped>\n",
       "    .dataframe tbody tr th:only-of-type {\n",
       "        vertical-align: middle;\n",
       "    }\n",
       "\n",
       "    .dataframe tbody tr th {\n",
       "        vertical-align: top;\n",
       "    }\n",
       "\n",
       "    .dataframe thead th {\n",
       "        text-align: right;\n",
       "    }\n",
       "</style>\n",
       "<table border=\"1\" class=\"dataframe\">\n",
       "  <thead>\n",
       "    <tr style=\"text-align: right;\">\n",
       "      <th></th>\n",
       "      <th>time</th>\n",
       "      <th>device_name</th>\n",
       "      <th>day_of_week</th>\n",
       "      <th>temperature</th>\n",
       "      <th>humidity</th>\n",
       "      <th>geolocation</th>\n",
       "      <th>lga</th>\n",
       "    </tr>\n",
       "  </thead>\n",
       "  <tbody>\n",
       "    <tr>\n",
       "      <th>203663</th>\n",
       "      <td>2022-08-14T16:00:00+10:00</td>\n",
       "      <td>Northend Ave - North</td>\n",
       "      <td>Sunday</td>\n",
       "      <td>16.129114</td>\n",
       "      <td>53.326172</td>\n",
       "      <td>-33.77390964665433, 150.6927279793041</td>\n",
       "      <td>Penrith City Council</td>\n",
       "    </tr>\n",
       "    <tr>\n",
       "      <th>63326</th>\n",
       "      <td>2022-06-29T22:30:00+10:00</td>\n",
       "      <td>Irwin St - South</td>\n",
       "      <td>Wednesday</td>\n",
       "      <td>9.257008</td>\n",
       "      <td>93.853516</td>\n",
       "      <td>-33.75283688697697, 150.7563883927052</td>\n",
       "      <td>Penrith City Council</td>\n",
       "    </tr>\n",
       "    <tr>\n",
       "      <th>236336</th>\n",
       "      <td>2022-12-25T02:00:00+11:00</td>\n",
       "      <td>Northend Ave - North</td>\n",
       "      <td>Sunday</td>\n",
       "      <td>20.797213</td>\n",
       "      <td>81.158203</td>\n",
       "      <td>-33.77390964665433, 150.6927279793041</td>\n",
       "      <td>Penrith City Council</td>\n",
       "    </tr>\n",
       "    <tr>\n",
       "      <th>48983</th>\n",
       "      <td>2022-08-22T15:30:00+10:00</td>\n",
       "      <td>Blackford Cres - Stokes</td>\n",
       "      <td>Monday</td>\n",
       "      <td>20.825366</td>\n",
       "      <td>40.386719</td>\n",
       "      <td>-33.77758258, 150.692869</td>\n",
       "      <td>Penrith City Council</td>\n",
       "    </tr>\n",
       "    <tr>\n",
       "      <th>40274</th>\n",
       "      <td>2022-11-22T00:30:00+11:00</td>\n",
       "      <td>Badgerys Creek Road - paddock</td>\n",
       "      <td>Tuesday</td>\n",
       "      <td>11.529388</td>\n",
       "      <td>66.753906</td>\n",
       "      <td>-33.8334001099992, 150.726370469997</td>\n",
       "      <td>Penrith City Council</td>\n",
       "    </tr>\n",
       "  </tbody>\n",
       "</table>\n",
       "</div>"
      ],
      "text/plain": [
       "                             time                    device_name day_of_week  \\\n",
       "203663  2022-08-14T16:00:00+10:00           Northend Ave - North      Sunday   \n",
       "63326   2022-06-29T22:30:00+10:00               Irwin St - South   Wednesday   \n",
       "236336  2022-12-25T02:00:00+11:00           Northend Ave - North      Sunday   \n",
       "48983   2022-08-22T15:30:00+10:00        Blackford Cres - Stokes      Monday   \n",
       "40274   2022-11-22T00:30:00+11:00  Badgerys Creek Road - paddock     Tuesday   \n",
       "\n",
       "        temperature   humidity                            geolocation  \\\n",
       "203663    16.129114  53.326172  -33.77390964665433, 150.6927279793041   \n",
       "63326      9.257008  93.853516  -33.75283688697697, 150.7563883927052   \n",
       "236336    20.797213  81.158203  -33.77390964665433, 150.6927279793041   \n",
       "48983     20.825366  40.386719               -33.77758258, 150.692869   \n",
       "40274     11.529388  66.753906    -33.8334001099992, 150.726370469997   \n",
       "\n",
       "                         lga  \n",
       "203663  Penrith City Council  \n",
       "63326   Penrith City Council  \n",
       "236336  Penrith City Council  \n",
       "48983   Penrith City Council  \n",
       "40274   Penrith City Council  "
      ]
     },
     "execution_count": 11,
     "metadata": {},
     "output_type": "execute_result"
    }
   ],
   "source": [
    "df1.sample(5)"
   ]
  },
  {
   "cell_type": "code",
   "execution_count": null,
   "metadata": {},
   "outputs": [],
   "source": []
  },
  {
   "cell_type": "code",
   "execution_count": null,
   "metadata": {},
   "outputs": [],
   "source": []
  },
  {
   "cell_type": "markdown",
   "metadata": {
    "id": "hoUjq1tPzz7P"
   },
   "source": [
    "#### Dataset 2\n",
    "\n",
    "Type: .csv file (e.g., CSV File.)\n",
    "\n",
    "Method: The data was manually downloaded via NSW AQMS website https://www.airquality.nsw.gov.au/air-quality-data-services/data-download-facility . The data was measured by NSW AQMS at Penrith council.\n",
    "\n",
    "Dataset variables:\n",
    "\n",
    "*   Date: Date of the measurement\n",
    "*   Time: Hour of the measurement\n",
    "*   PENRITH PM10 1h average [µg/m³]: Hourly averaged PM$_{10}$ levels in $\\mu g$/$m^3$\n",
    "*   PENRITH PM2.5 1h average [µg/m³]: Hourly averaged PM$_{2.5}$ levels in $\\mu g$/$m^3$\n",
    "\n",
    "This data of PMs concentrations is widely used in enviromental consultancy. Giving hourly average concetration, the data can compare with many other measurements with different time granularities."
   ]
  },
  {
   "cell_type": "code",
   "execution_count": 12,
   "metadata": {},
   "outputs": [
    {
     "name": "stdout",
     "output_type": "stream",
     "text": [
      "Data_Wrangling_Project_Starter.ipynb\r\n",
      "cleaned_hourly_avg_pm_v2.csv\r\n",
      "cleaned_merged_sydney_water_temp_hum_n_hourly_avg_pm_v3.csv\r\n",
      "cleaned_sydney_water_temp_hum_v2.csv\r\n",
      "hourly_avg_pm_v0.csv\r\n",
      "hourly_avg_pm_v1.csv\r\n",
      "sydney_water_temp_hum_v0.csv\r\n",
      "sydney_water_temp_hum_v1.csv\r\n"
     ]
    }
   ],
   "source": [
    "%ls"
   ]
  },
  {
   "cell_type": "code",
   "execution_count": 13,
   "metadata": {
    "id": "6zT0QxRyYmm7"
   },
   "outputs": [],
   "source": [
    "#FILL IN 2nd data gathering and loading method\n",
    "df2 = pd.read_csv('hourly_avg_pm_v0.csv',encoding='latin1',header=2)"
   ]
  },
  {
   "cell_type": "code",
   "execution_count": 14,
   "metadata": {},
   "outputs": [
    {
     "data": {
      "text/html": [
       "<div>\n",
       "<style scoped>\n",
       "    .dataframe tbody tr th:only-of-type {\n",
       "        vertical-align: middle;\n",
       "    }\n",
       "\n",
       "    .dataframe tbody tr th {\n",
       "        vertical-align: top;\n",
       "    }\n",
       "\n",
       "    .dataframe thead th {\n",
       "        text-align: right;\n",
       "    }\n",
       "</style>\n",
       "<table border=\"1\" class=\"dataframe\">\n",
       "  <thead>\n",
       "    <tr style=\"text-align: right;\">\n",
       "      <th></th>\n",
       "      <th>Date</th>\n",
       "      <th>Time</th>\n",
       "      <th>PENRITH PM10 1h average [µg/m³]</th>\n",
       "      <th>PENRITH PM2.5 1h average [µg/m³]</th>\n",
       "    </tr>\n",
       "  </thead>\n",
       "  <tbody>\n",
       "    <tr>\n",
       "      <th>0</th>\n",
       "      <td>19/07/2022</td>\n",
       "      <td>01:00</td>\n",
       "      <td>10.2</td>\n",
       "      <td>5.5</td>\n",
       "    </tr>\n",
       "    <tr>\n",
       "      <th>1</th>\n",
       "      <td>19/07/2022</td>\n",
       "      <td>02:00</td>\n",
       "      <td>9.8</td>\n",
       "      <td>8.0</td>\n",
       "    </tr>\n",
       "    <tr>\n",
       "      <th>2</th>\n",
       "      <td>19/07/2022</td>\n",
       "      <td>03:00</td>\n",
       "      <td>8.6</td>\n",
       "      <td>10.8</td>\n",
       "    </tr>\n",
       "    <tr>\n",
       "      <th>3</th>\n",
       "      <td>19/07/2022</td>\n",
       "      <td>04:00</td>\n",
       "      <td>7.6</td>\n",
       "      <td>6.4</td>\n",
       "    </tr>\n",
       "    <tr>\n",
       "      <th>4</th>\n",
       "      <td>19/07/2022</td>\n",
       "      <td>05:00</td>\n",
       "      <td>8.4</td>\n",
       "      <td>8.6</td>\n",
       "    </tr>\n",
       "  </tbody>\n",
       "</table>\n",
       "</div>"
      ],
      "text/plain": [
       "         Date   Time  PENRITH PM10 1h average [µg/m³]  \\\n",
       "0  19/07/2022  01:00                             10.2   \n",
       "1  19/07/2022  02:00                              9.8   \n",
       "2  19/07/2022  03:00                              8.6   \n",
       "3  19/07/2022  04:00                              7.6   \n",
       "4  19/07/2022  05:00                              8.4   \n",
       "\n",
       "   PENRITH PM2.5 1h average [µg/m³]  \n",
       "0                               5.5  \n",
       "1                               8.0  \n",
       "2                              10.8  \n",
       "3                               6.4  \n",
       "4                               8.6  "
      ]
     },
     "execution_count": 14,
     "metadata": {},
     "output_type": "execute_result"
    }
   ],
   "source": [
    "df2.head()"
   ]
  },
  {
   "cell_type": "markdown",
   "metadata": {},
   "source": [
    "#### Similar to Dataset 1, the column names need to be reformated for a more convient column/attribute calling"
   ]
  },
  {
   "cell_type": "code",
   "execution_count": 15,
   "metadata": {},
   "outputs": [
    {
     "data": {
      "text/plain": [
       "Index(['date', 'time', 'pm_10', 'pm_25'], dtype='object')"
      ]
     },
     "execution_count": 15,
     "metadata": {},
     "output_type": "execute_result"
    }
   ],
   "source": [
    "# since there are only four columns, we can set a list of new names directly to replace the old column names\n",
    "new_col_names = ['date','time','pm_10','pm_25']\n",
    "# replace the columns\n",
    "df2.rename(columns = dict(zip(df2.columns.to_list(),new_col_names)),inplace=True)\n",
    "df2.columns"
   ]
  },
  {
   "cell_type": "code",
   "execution_count": 16,
   "metadata": {},
   "outputs": [
    {
     "data": {
      "text/html": [
       "<div>\n",
       "<style scoped>\n",
       "    .dataframe tbody tr th:only-of-type {\n",
       "        vertical-align: middle;\n",
       "    }\n",
       "\n",
       "    .dataframe tbody tr th {\n",
       "        vertical-align: top;\n",
       "    }\n",
       "\n",
       "    .dataframe thead th {\n",
       "        text-align: right;\n",
       "    }\n",
       "</style>\n",
       "<table border=\"1\" class=\"dataframe\">\n",
       "  <thead>\n",
       "    <tr style=\"text-align: right;\">\n",
       "      <th></th>\n",
       "      <th>date</th>\n",
       "      <th>time</th>\n",
       "      <th>pm_10</th>\n",
       "      <th>pm_25</th>\n",
       "    </tr>\n",
       "  </thead>\n",
       "  <tbody>\n",
       "    <tr>\n",
       "      <th>2552</th>\n",
       "      <td>02/11/2022</td>\n",
       "      <td>09:00</td>\n",
       "      <td>8.8</td>\n",
       "      <td>18.3</td>\n",
       "    </tr>\n",
       "    <tr>\n",
       "      <th>1935</th>\n",
       "      <td>07/10/2022</td>\n",
       "      <td>16:00</td>\n",
       "      <td>7.3</td>\n",
       "      <td>2.5</td>\n",
       "    </tr>\n",
       "    <tr>\n",
       "      <th>132</th>\n",
       "      <td>24/07/2022</td>\n",
       "      <td>13:00</td>\n",
       "      <td>10.5</td>\n",
       "      <td>13.5</td>\n",
       "    </tr>\n",
       "    <tr>\n",
       "      <th>152</th>\n",
       "      <td>25/07/2022</td>\n",
       "      <td>09:00</td>\n",
       "      <td>11.4</td>\n",
       "      <td>NaN</td>\n",
       "    </tr>\n",
       "    <tr>\n",
       "      <th>842</th>\n",
       "      <td>23/08/2022</td>\n",
       "      <td>03:00</td>\n",
       "      <td>5.9</td>\n",
       "      <td>3.3</td>\n",
       "    </tr>\n",
       "  </tbody>\n",
       "</table>\n",
       "</div>"
      ],
      "text/plain": [
       "            date   time  pm_10  pm_25\n",
       "2552  02/11/2022  09:00    8.8   18.3\n",
       "1935  07/10/2022  16:00    7.3    2.5\n",
       "132   24/07/2022  13:00   10.5   13.5\n",
       "152   25/07/2022  09:00   11.4    NaN\n",
       "842   23/08/2022  03:00    5.9    3.3"
      ]
     },
     "execution_count": 16,
     "metadata": {},
     "output_type": "execute_result"
    }
   ],
   "source": [
    "df2.sample(5)"
   ]
  },
  {
   "cell_type": "markdown",
   "metadata": {},
   "source": [
    "#### Now save the new-column-name Dataset 2 locally"
   ]
  },
  {
   "cell_type": "code",
   "execution_count": 17,
   "metadata": {},
   "outputs": [],
   "source": [
    "# df2.to_csv('hourly_avg_pm_v1.csv',index=False)"
   ]
  },
  {
   "cell_type": "code",
   "execution_count": 18,
   "metadata": {},
   "outputs": [
    {
     "name": "stdout",
     "output_type": "stream",
     "text": [
      "Data_Wrangling_Project_Starter.ipynb\r\n",
      "cleaned_hourly_avg_pm_v2.csv\r\n",
      "cleaned_merged_sydney_water_temp_hum_n_hourly_avg_pm_v3.csv\r\n",
      "cleaned_sydney_water_temp_hum_v2.csv\r\n",
      "hourly_avg_pm_v0.csv\r\n",
      "hourly_avg_pm_v1.csv\r\n",
      "sydney_water_temp_hum_v0.csv\r\n",
      "sydney_water_temp_hum_v1.csv\r\n"
     ]
    }
   ],
   "source": [
    "%ls"
   ]
  },
  {
   "cell_type": "code",
   "execution_count": null,
   "metadata": {},
   "outputs": [],
   "source": []
  },
  {
   "cell_type": "markdown",
   "metadata": {
    "id": "QwSWIVmotLgV"
   },
   "source": [
    "## 2. Assess data\n",
    "\n",
    "Assess the data according to data quality and tidiness metrics using the report below.\n",
    "\n",
    "List **two** data quality issues and **two** tidiness issues. Assess each data issue visually **and** programmatically, then briefly describe the issue you find.  **Make sure you include justifications for the methods you use for the assessment.**"
   ]
  },
  {
   "cell_type": "markdown",
   "metadata": {
    "id": "adaK2iPNzVu4"
   },
   "source": [
    "### Quality Issue 1 - validity issue:"
   ]
  },
  {
   "cell_type": "code",
   "execution_count": 19,
   "metadata": {
    "id": "SpW59kh-zl8d"
   },
   "outputs": [
    {
     "data": {
      "text/plain": [
       "Index(['time', 'device_name', 'day_of_week', 'temperature', 'humidity',\n",
       "       'geolocation', 'lga'],\n",
       "      dtype='object')"
      ]
     },
     "execution_count": 19,
     "metadata": {},
     "output_type": "execute_result"
    }
   ],
   "source": [
    "#FILL IN - Inspecting the dataframe visually\n",
    "# Check all the columns\n",
    "df1.columns"
   ]
  },
  {
   "cell_type": "code",
   "execution_count": 20,
   "metadata": {},
   "outputs": [
    {
     "data": {
      "text/html": [
       "<div>\n",
       "<style scoped>\n",
       "    .dataframe tbody tr th:only-of-type {\n",
       "        vertical-align: middle;\n",
       "    }\n",
       "\n",
       "    .dataframe tbody tr th {\n",
       "        vertical-align: top;\n",
       "    }\n",
       "\n",
       "    .dataframe thead th {\n",
       "        text-align: right;\n",
       "    }\n",
       "</style>\n",
       "<table border=\"1\" class=\"dataframe\">\n",
       "  <thead>\n",
       "    <tr style=\"text-align: right;\">\n",
       "      <th></th>\n",
       "      <th>time</th>\n",
       "      <th>device_name</th>\n",
       "      <th>day_of_week</th>\n",
       "      <th>temperature</th>\n",
       "      <th>humidity</th>\n",
       "      <th>geolocation</th>\n",
       "      <th>lga</th>\n",
       "    </tr>\n",
       "  </thead>\n",
       "  <tbody>\n",
       "    <tr>\n",
       "      <th>0</th>\n",
       "      <td>2022-07-19T20:00:00+10:00</td>\n",
       "      <td>Caddens Oval - North-West</td>\n",
       "      <td>Tuesday</td>\n",
       "      <td>9.344149</td>\n",
       "      <td>96.539062</td>\n",
       "      <td>-33.77534677981919, 150.7385496710238</td>\n",
       "      <td>Penrith City Council</td>\n",
       "    </tr>\n",
       "    <tr>\n",
       "      <th>1</th>\n",
       "      <td>2022-07-19T20:00:00+10:00</td>\n",
       "      <td>Irwin St - South</td>\n",
       "      <td>Tuesday</td>\n",
       "      <td>9.773153</td>\n",
       "      <td>95.074219</td>\n",
       "      <td>-33.75283688697697, 150.7563883927052</td>\n",
       "      <td>Penrith City Council</td>\n",
       "    </tr>\n",
       "    <tr>\n",
       "      <th>2</th>\n",
       "      <td>2022-07-19T20:00:00+10:00</td>\n",
       "      <td>Water Gum Dr</td>\n",
       "      <td>Tuesday</td>\n",
       "      <td>9.656518</td>\n",
       "      <td>94.585938</td>\n",
       "      <td>-33.725953, 150.72338253</td>\n",
       "      <td>Penrith City Council</td>\n",
       "    </tr>\n",
       "    <tr>\n",
       "      <th>3</th>\n",
       "      <td>2022-03-17T14:30:00+11:00</td>\n",
       "      <td>Parkes Av - Middle</td>\n",
       "      <td>Thursday</td>\n",
       "      <td>27.015088</td>\n",
       "      <td>65.777344</td>\n",
       "      <td>-33.75351902695962, 150.7573530994433</td>\n",
       "      <td>Penrith City Council</td>\n",
       "    </tr>\n",
       "    <tr>\n",
       "      <th>4</th>\n",
       "      <td>2022-03-17T14:30:00+11:00</td>\n",
       "      <td>Eileen Cammack Res - NW</td>\n",
       "      <td>Thursday</td>\n",
       "      <td>28.290034</td>\n",
       "      <td>99.957031</td>\n",
       "      <td>-33.775311802244, 150.6937540223574</td>\n",
       "      <td>Penrith City Council</td>\n",
       "    </tr>\n",
       "  </tbody>\n",
       "</table>\n",
       "</div>"
      ],
      "text/plain": [
       "                        time                device_name day_of_week  \\\n",
       "0  2022-07-19T20:00:00+10:00  Caddens Oval - North-West     Tuesday   \n",
       "1  2022-07-19T20:00:00+10:00           Irwin St - South     Tuesday   \n",
       "2  2022-07-19T20:00:00+10:00               Water Gum Dr     Tuesday   \n",
       "3  2022-03-17T14:30:00+11:00         Parkes Av - Middle    Thursday   \n",
       "4  2022-03-17T14:30:00+11:00    Eileen Cammack Res - NW    Thursday   \n",
       "\n",
       "   temperature   humidity                            geolocation  \\\n",
       "0     9.344149  96.539062  -33.77534677981919, 150.7385496710238   \n",
       "1     9.773153  95.074219  -33.75283688697697, 150.7563883927052   \n",
       "2     9.656518  94.585938               -33.725953, 150.72338253   \n",
       "3    27.015088  65.777344  -33.75351902695962, 150.7573530994433   \n",
       "4    28.290034  99.957031    -33.775311802244, 150.6937540223574   \n",
       "\n",
       "                    lga  \n",
       "0  Penrith City Council  \n",
       "1  Penrith City Council  \n",
       "2  Penrith City Council  \n",
       "3  Penrith City Council  \n",
       "4  Penrith City Council  "
      ]
     },
     "execution_count": 20,
     "metadata": {},
     "output_type": "execute_result"
    }
   ],
   "source": [
    "# Firstly take a look at the data head\n",
    "df1.head(5)"
   ]
  },
  {
   "cell_type": "code",
   "execution_count": 21,
   "metadata": {},
   "outputs": [
    {
     "data": {
      "text/plain": [
       "0"
      ]
     },
     "execution_count": 21,
     "metadata": {},
     "output_type": "execute_result"
    }
   ],
   "source": [
    "# check if there are any null values\n",
    "df1.isnull().sum().sum()"
   ]
  },
  {
   "cell_type": "markdown",
   "metadata": {},
   "source": [
    "##### Now using .describe() to have a better understanding of the data range and some important statistical values."
   ]
  },
  {
   "cell_type": "code",
   "execution_count": 22,
   "metadata": {},
   "outputs": [
    {
     "data": {
      "text/html": [
       "<div>\n",
       "<style scoped>\n",
       "    .dataframe tbody tr th:only-of-type {\n",
       "        vertical-align: middle;\n",
       "    }\n",
       "\n",
       "    .dataframe tbody tr th {\n",
       "        vertical-align: top;\n",
       "    }\n",
       "\n",
       "    .dataframe thead th {\n",
       "        text-align: right;\n",
       "    }\n",
       "</style>\n",
       "<table border=\"1\" class=\"dataframe\">\n",
       "  <thead>\n",
       "    <tr style=\"text-align: right;\">\n",
       "      <th></th>\n",
       "      <th>temperature</th>\n",
       "      <th>humidity</th>\n",
       "    </tr>\n",
       "  </thead>\n",
       "  <tbody>\n",
       "    <tr>\n",
       "      <th>count</th>\n",
       "      <td>281378.000000</td>\n",
       "      <td>281378.000000</td>\n",
       "    </tr>\n",
       "    <tr>\n",
       "      <th>mean</th>\n",
       "      <td>16.371200</td>\n",
       "      <td>75.953249</td>\n",
       "    </tr>\n",
       "    <tr>\n",
       "      <th>std</th>\n",
       "      <td>5.723310</td>\n",
       "      <td>19.084354</td>\n",
       "    </tr>\n",
       "    <tr>\n",
       "      <th>min</th>\n",
       "      <td>-2.992394</td>\n",
       "      <td>19.390625</td>\n",
       "    </tr>\n",
       "    <tr>\n",
       "      <th>25%</th>\n",
       "      <td>12.483922</td>\n",
       "      <td>60.650391</td>\n",
       "    </tr>\n",
       "    <tr>\n",
       "      <th>50%</th>\n",
       "      <td>16.351660</td>\n",
       "      <td>78.716797</td>\n",
       "    </tr>\n",
       "    <tr>\n",
       "      <th>75%</th>\n",
       "      <td>19.975402</td>\n",
       "      <td>93.365234</td>\n",
       "    </tr>\n",
       "    <tr>\n",
       "      <th>max</th>\n",
       "      <td>40.798179</td>\n",
       "      <td>99.957031</td>\n",
       "    </tr>\n",
       "  </tbody>\n",
       "</table>\n",
       "</div>"
      ],
      "text/plain": [
       "         temperature       humidity\n",
       "count  281378.000000  281378.000000\n",
       "mean       16.371200      75.953249\n",
       "std         5.723310      19.084354\n",
       "min        -2.992394      19.390625\n",
       "25%        12.483922      60.650391\n",
       "50%        16.351660      78.716797\n",
       "75%        19.975402      93.365234\n",
       "max        40.798179      99.957031"
      ]
     },
     "execution_count": 22,
     "metadata": {},
     "output_type": "execute_result"
    }
   ],
   "source": [
    "df1.describe()"
   ]
  },
  {
   "cell_type": "markdown",
   "metadata": {},
   "source": [
    "#### From the percentiles, the min and max are observed to be affected by the outlier temperatures. The value gaps between 25% and 75% are around 4 degrees per quartile, while the two tails (min and max) are far away from the quartile bounds. "
   ]
  },
  {
   "cell_type": "code",
   "execution_count": 85,
   "metadata": {},
   "outputs": [
    {
     "data": {
      "text/plain": [
       "Index(['time', 'device_name', 'day_of_week', 'temperature', 'humidity',\n",
       "       'geolocation', 'lga'],\n",
       "      dtype='object')"
      ]
     },
     "execution_count": 85,
     "metadata": {},
     "output_type": "execute_result"
    }
   ],
   "source": [
    "#FILL IN - Inspecting the dataframe programmatically\n",
    "# The column names are correct.\n",
    "df1.columns"
   ]
  },
  {
   "cell_type": "code",
   "execution_count": 24,
   "metadata": {},
   "outputs": [
    {
     "data": {
      "text/plain": [
       "<AxesSubplot: title={'center': 'Boxplot of the temperature and humidity'}, ylabel='Temperature level, humidity level'>"
      ]
     },
     "execution_count": 24,
     "metadata": {},
     "output_type": "execute_result"
    },
    {
     "data": {
      "image/png": "[encoded data removed]",
      "text/plain": [
       "<Figure size 640x480 with 1 Axes>"
      ]
     },
     "metadata": {},
     "output_type": "display_data"
    }
   ],
   "source": [
    "# Boxplots can directly show the outliers for multiple columns\n",
    "df1[['temperature','humidity']].plot(kind='box', title='Boxplot of the temperature and humidity',\n",
    "                                    ylabel='Temperature level, humidity level')"
   ]
  },
  {
   "cell_type": "markdown",
   "metadata": {},
   "source": [
    "#### As we can see, there are outliers in the temperature values."
   ]
  },
  {
   "cell_type": "markdown",
   "metadata": {},
   "source": [
    "Now a histogram can completement to the boxplot on how the outliers are distributed in the dataset."
   ]
  },
  {
   "cell_type": "code",
   "execution_count": 25,
   "metadata": {
    "scrolled": true
   },
   "outputs": [
    {
     "data": {
      "image/png": "[encoded data removed]",
      "text/plain": [
       "<Figure size 640x480 with 1 Axes>"
      ]
     },
     "metadata": {},
     "output_type": "display_data"
    }
   ],
   "source": [
    "df1.temperature.plot(kind='hist',bins=36,title='Histogram of temperature',\n",
    "                    xlabel='Temperature',ylabel='Frequency')\n",
    "plt.xlabel('Temperature')\n",
    "plt.show()"
   ]
  },
  {
   "cell_type": "markdown",
   "metadata": {},
   "source": [
    "#### Based on the temperature histogram displayed above, the distribution of temperatures appears to resemble a normal distribution, with outliers present at both ends of the histogram. Extreme temperatures, such as those exceeding 30 degrees Celsius or falling below 0 degrees Celsius, are observed infrequently in the tails of the histogram. These extreme values may not have been anticipated and are potentially not representative of the data used for training purposes. However, the decision to exclude these outliers from the analysis remains debatable, despite their rare occurrence."
   ]
  },
  {
   "cell_type": "code",
   "execution_count": null,
   "metadata": {},
   "outputs": [],
   "source": []
  },
  {
   "cell_type": "markdown",
   "metadata": {},
   "source": [
    "#### To sum up, outliers are found in Dataset 1 in temperature and humidity columns"
   ]
  },
  {
   "cell_type": "markdown",
   "metadata": {
    "id": "8Be77N4I1AmE"
   },
   "source": [
    "### Quality Issue 2 - completeness and validity issues:"
   ]
  },
  {
   "cell_type": "code",
   "execution_count": 26,
   "metadata": {
    "id": "iMhHyiyLM2I3"
   },
   "outputs": [],
   "source": [
    "#FILL IN - Inspecting the dataframe visually\n",
    "# firstly take a look at the raw data."
   ]
  },
  {
   "cell_type": "code",
   "execution_count": 27,
   "metadata": {},
   "outputs": [
    {
     "data": {
      "text/html": [
       "<div>\n",
       "<style scoped>\n",
       "    .dataframe tbody tr th:only-of-type {\n",
       "        vertical-align: middle;\n",
       "    }\n",
       "\n",
       "    .dataframe tbody tr th {\n",
       "        vertical-align: top;\n",
       "    }\n",
       "\n",
       "    .dataframe thead th {\n",
       "        text-align: right;\n",
       "    }\n",
       "</style>\n",
       "<table border=\"1\" class=\"dataframe\">\n",
       "  <thead>\n",
       "    <tr style=\"text-align: right;\">\n",
       "      <th></th>\n",
       "      <th>date</th>\n",
       "      <th>time</th>\n",
       "      <th>pm_10</th>\n",
       "      <th>pm_25</th>\n",
       "    </tr>\n",
       "  </thead>\n",
       "  <tbody>\n",
       "    <tr>\n",
       "      <th>95</th>\n",
       "      <td>22/07/2022</td>\n",
       "      <td>24:00</td>\n",
       "      <td>6.3</td>\n",
       "      <td>2.7</td>\n",
       "    </tr>\n",
       "    <tr>\n",
       "      <th>2106</th>\n",
       "      <td>14/10/2022</td>\n",
       "      <td>19:00</td>\n",
       "      <td>10.8</td>\n",
       "      <td>2.0</td>\n",
       "    </tr>\n",
       "    <tr>\n",
       "      <th>677</th>\n",
       "      <td>16/08/2022</td>\n",
       "      <td>06:00</td>\n",
       "      <td>10.9</td>\n",
       "      <td>-3.3</td>\n",
       "    </tr>\n",
       "    <tr>\n",
       "      <th>603</th>\n",
       "      <td>13/08/2022</td>\n",
       "      <td>04:00</td>\n",
       "      <td>8.6</td>\n",
       "      <td>6.6</td>\n",
       "    </tr>\n",
       "    <tr>\n",
       "      <th>973</th>\n",
       "      <td>28/08/2022</td>\n",
       "      <td>14:00</td>\n",
       "      <td>9.4</td>\n",
       "      <td>7.7</td>\n",
       "    </tr>\n",
       "    <tr>\n",
       "      <th>1077</th>\n",
       "      <td>01/09/2022</td>\n",
       "      <td>22:00</td>\n",
       "      <td>27.1</td>\n",
       "      <td>12.2</td>\n",
       "    </tr>\n",
       "    <tr>\n",
       "      <th>2187</th>\n",
       "      <td>18/10/2022</td>\n",
       "      <td>04:00</td>\n",
       "      <td>22.7</td>\n",
       "      <td>5.8</td>\n",
       "    </tr>\n",
       "    <tr>\n",
       "      <th>667</th>\n",
       "      <td>15/08/2022</td>\n",
       "      <td>20:00</td>\n",
       "      <td>9.5</td>\n",
       "      <td>-1.0</td>\n",
       "    </tr>\n",
       "    <tr>\n",
       "      <th>988</th>\n",
       "      <td>29/08/2022</td>\n",
       "      <td>05:00</td>\n",
       "      <td>11.2</td>\n",
       "      <td>7.6</td>\n",
       "    </tr>\n",
       "    <tr>\n",
       "      <th>2250</th>\n",
       "      <td>20/10/2022</td>\n",
       "      <td>19:00</td>\n",
       "      <td>9.1</td>\n",
       "      <td>3.4</td>\n",
       "    </tr>\n",
       "    <tr>\n",
       "      <th>788</th>\n",
       "      <td>20/08/2022</td>\n",
       "      <td>21:00</td>\n",
       "      <td>11.4</td>\n",
       "      <td>3.5</td>\n",
       "    </tr>\n",
       "    <tr>\n",
       "      <th>1090</th>\n",
       "      <td>02/09/2022</td>\n",
       "      <td>11:00</td>\n",
       "      <td>11.9</td>\n",
       "      <td>8.1</td>\n",
       "    </tr>\n",
       "    <tr>\n",
       "      <th>1992</th>\n",
       "      <td>10/10/2022</td>\n",
       "      <td>01:00</td>\n",
       "      <td>11.2</td>\n",
       "      <td>4.6</td>\n",
       "    </tr>\n",
       "    <tr>\n",
       "      <th>1589</th>\n",
       "      <td>23/09/2022</td>\n",
       "      <td>06:00</td>\n",
       "      <td>10.7</td>\n",
       "      <td>3.2</td>\n",
       "    </tr>\n",
       "    <tr>\n",
       "      <th>879</th>\n",
       "      <td>24/08/2022</td>\n",
       "      <td>16:00</td>\n",
       "      <td>9.2</td>\n",
       "      <td>3.9</td>\n",
       "    </tr>\n",
       "  </tbody>\n",
       "</table>\n",
       "</div>"
      ],
      "text/plain": [
       "            date   time  pm_10  pm_25\n",
       "95    22/07/2022  24:00    6.3    2.7\n",
       "2106  14/10/2022  19:00   10.8    2.0\n",
       "677   16/08/2022  06:00   10.9   -3.3\n",
       "603   13/08/2022  04:00    8.6    6.6\n",
       "973   28/08/2022  14:00    9.4    7.7\n",
       "1077  01/09/2022  22:00   27.1   12.2\n",
       "2187  18/10/2022  04:00   22.7    5.8\n",
       "667   15/08/2022  20:00    9.5   -1.0\n",
       "988   29/08/2022  05:00   11.2    7.6\n",
       "2250  20/10/2022  19:00    9.1    3.4\n",
       "788   20/08/2022  21:00   11.4    3.5\n",
       "1090  02/09/2022  11:00   11.9    8.1\n",
       "1992  10/10/2022  01:00   11.2    4.6\n",
       "1589  23/09/2022  06:00   10.7    3.2\n",
       "879   24/08/2022  16:00    9.2    3.9"
      ]
     },
     "execution_count": 27,
     "metadata": {},
     "output_type": "execute_result"
    }
   ],
   "source": [
    "df2.sample(15)"
   ]
  },
  {
   "cell_type": "code",
   "execution_count": 28,
   "metadata": {
    "scrolled": true
   },
   "outputs": [
    {
     "data": {
      "text/plain": [
       "date      0\n",
       "time      0\n",
       "pm_10     8\n",
       "pm_25    23\n",
       "dtype: int64"
      ]
     },
     "execution_count": 28,
     "metadata": {},
     "output_type": "execute_result"
    }
   ],
   "source": [
    "# check if there is any null values\n",
    "df2.isnull().sum()"
   ]
  },
  {
   "cell_type": "markdown",
   "metadata": {},
   "source": [
    "There are null values in pm$_{2.5}$ and pm$_{10}$ in Dataset 2"
   ]
  },
  {
   "cell_type": "code",
   "execution_count": 29,
   "metadata": {
    "id": "bnviRCUI-bb7"
   },
   "outputs": [],
   "source": [
    "#FILL IN - Inspecting the dataframe programmatically"
   ]
  },
  {
   "cell_type": "code",
   "execution_count": 30,
   "metadata": {},
   "outputs": [
    {
     "data": {
      "text/html": [
       "<div>\n",
       "<style scoped>\n",
       "    .dataframe tbody tr th:only-of-type {\n",
       "        vertical-align: middle;\n",
       "    }\n",
       "\n",
       "    .dataframe tbody tr th {\n",
       "        vertical-align: top;\n",
       "    }\n",
       "\n",
       "    .dataframe thead th {\n",
       "        text-align: right;\n",
       "    }\n",
       "</style>\n",
       "<table border=\"1\" class=\"dataframe\">\n",
       "  <thead>\n",
       "    <tr style=\"text-align: right;\">\n",
       "      <th></th>\n",
       "      <th>pm_10</th>\n",
       "      <th>pm_25</th>\n",
       "    </tr>\n",
       "  </thead>\n",
       "  <tbody>\n",
       "    <tr>\n",
       "      <th>count</th>\n",
       "      <td>2776.000000</td>\n",
       "      <td>2761.000000</td>\n",
       "    </tr>\n",
       "    <tr>\n",
       "      <th>mean</th>\n",
       "      <td>11.995893</td>\n",
       "      <td>5.206193</td>\n",
       "    </tr>\n",
       "    <tr>\n",
       "      <th>std</th>\n",
       "      <td>7.040669</td>\n",
       "      <td>6.597011</td>\n",
       "    </tr>\n",
       "    <tr>\n",
       "      <th>min</th>\n",
       "      <td>-5.100000</td>\n",
       "      <td>-9.600000</td>\n",
       "    </tr>\n",
       "    <tr>\n",
       "      <th>25%</th>\n",
       "      <td>7.300000</td>\n",
       "      <td>1.300000</td>\n",
       "    </tr>\n",
       "    <tr>\n",
       "      <th>50%</th>\n",
       "      <td>10.800000</td>\n",
       "      <td>4.200000</td>\n",
       "    </tr>\n",
       "    <tr>\n",
       "      <th>75%</th>\n",
       "      <td>15.100000</td>\n",
       "      <td>8.100000</td>\n",
       "    </tr>\n",
       "    <tr>\n",
       "      <th>max</th>\n",
       "      <td>76.900000</td>\n",
       "      <td>41.800000</td>\n",
       "    </tr>\n",
       "  </tbody>\n",
       "</table>\n",
       "</div>"
      ],
      "text/plain": [
       "             pm_10        pm_25\n",
       "count  2776.000000  2761.000000\n",
       "mean     11.995893     5.206193\n",
       "std       7.040669     6.597011\n",
       "min      -5.100000    -9.600000\n",
       "25%       7.300000     1.300000\n",
       "50%      10.800000     4.200000\n",
       "75%      15.100000     8.100000\n",
       "max      76.900000    41.800000"
      ]
     },
     "execution_count": 30,
     "metadata": {},
     "output_type": "execute_result"
    }
   ],
   "source": [
    "# check the basic statistics\n",
    "df2.describe()"
   ]
  },
  {
   "cell_type": "markdown",
   "metadata": {},
   "source": [
    "#### From the statistics above, negative PM concentration levels do not make sense. Additionally, the maximum value for both pm10 and pm2.5 far away from quartiles."
   ]
  },
  {
   "cell_type": "code",
   "execution_count": 31,
   "metadata": {},
   "outputs": [
    {
     "data": {
      "text/plain": [
       "<AxesSubplot: title={'center': 'Boxplot of the pm_10 and pm_2.5 levels'}, ylabel='pm_10 and pm_2.5 levels'>"
      ]
     },
     "execution_count": 31,
     "metadata": {},
     "output_type": "execute_result"
    },
    {
     "data": {
      "image/png": "[encoded data removed]",
      "text/plain": [
       "<Figure size 640x480 with 1 Axes>"
      ]
     },
     "metadata": {},
     "output_type": "display_data"
    }
   ],
   "source": [
    "df2[['pm_25','pm_10']].plot(kind='box', title='Boxplot of the pm_10 and pm_2.5 levels',\n",
    "                                    ylabel='pm_10 and pm_2.5 levels')"
   ]
  },
  {
   "cell_type": "markdown",
   "metadata": {},
   "source": [
    "To completement to the boxplots, more information is provided using histograms."
   ]
  },
  {
   "cell_type": "code",
   "execution_count": 32,
   "metadata": {
    "scrolled": true
   },
   "outputs": [
    {
     "data": {
      "image/png": "[encoded data removed]",
      "text/plain": [
       "<Figure size 640x480 with 1 Axes>"
      ]
     },
     "metadata": {},
     "output_type": "display_data"
    }
   ],
   "source": [
    "df2.pm_10.plot(kind='hist',bins=36,title='Histogram of PM10',\n",
    "                    xlabel='PM10 concentration levels',ylabel='Occurrence')\n",
    "plt.xlabel('PM10 concentration levels')\n",
    "plt.show()"
   ]
  },
  {
   "cell_type": "code",
   "execution_count": 33,
   "metadata": {},
   "outputs": [
    {
     "data": {
      "image/png": "[encoded data removed]",
      "text/plain": [
       "<Figure size 640x480 with 1 Axes>"
      ]
     },
     "metadata": {},
     "output_type": "display_data"
    }
   ],
   "source": [
    "df2.pm_25.plot(kind='hist',bins=36,title='Histogram of PM2.5',\n",
    "                    xlabel='PM2.5 concentration levels',ylabel='Occurrence')\n",
    "plt.xlabel('PM2.5 concentration levels')\n",
    "plt.show()"
   ]
  },
  {
   "cell_type": "markdown",
   "metadata": {},
   "source": [
    "#### Based on the above boxplots and histograms for PM2.5 and PM10 concentrations, the outliers are at a rare occurrence. However, the left tails of PM2.5 still resemble a normal probability density even below zero value. It is anticipated that the PM2.5 distrbution was somehow shifted left due to some mechanical errors of the devices."
   ]
  },
  {
   "cell_type": "markdown",
   "metadata": {},
   "source": [
    "#### To sum up, there are three quality issues in Dataset 2,\n",
    "* NA values in PM2.5 column\n",
    "* PM concentrations are found below zero which are invalid\n",
    "* Outliers in both PM2.5 and PM10 values"
   ]
  },
  {
   "cell_type": "markdown",
   "metadata": {
    "id": "lXhGiYyiwwKN"
   },
   "source": [
    "### Tidiness Issue 1:"
   ]
  },
  {
   "cell_type": "code",
   "execution_count": 34,
   "metadata": {
    "id": "fleC5rORI0Xl"
   },
   "outputs": [
    {
     "data": {
      "text/html": [
       "<div>\n",
       "<style scoped>\n",
       "    .dataframe tbody tr th:only-of-type {\n",
       "        vertical-align: middle;\n",
       "    }\n",
       "\n",
       "    .dataframe tbody tr th {\n",
       "        vertical-align: top;\n",
       "    }\n",
       "\n",
       "    .dataframe thead th {\n",
       "        text-align: right;\n",
       "    }\n",
       "</style>\n",
       "<table border=\"1\" class=\"dataframe\">\n",
       "  <thead>\n",
       "    <tr style=\"text-align: right;\">\n",
       "      <th></th>\n",
       "      <th>time</th>\n",
       "      <th>device_name</th>\n",
       "      <th>day_of_week</th>\n",
       "      <th>temperature</th>\n",
       "      <th>humidity</th>\n",
       "      <th>geolocation</th>\n",
       "      <th>lga</th>\n",
       "    </tr>\n",
       "  </thead>\n",
       "  <tbody>\n",
       "    <tr>\n",
       "      <th>0</th>\n",
       "      <td>2022-07-19T20:00:00+10:00</td>\n",
       "      <td>Caddens Oval - North-West</td>\n",
       "      <td>Tuesday</td>\n",
       "      <td>9.344149</td>\n",
       "      <td>96.539062</td>\n",
       "      <td>-33.77534677981919, 150.7385496710238</td>\n",
       "      <td>Penrith City Council</td>\n",
       "    </tr>\n",
       "    <tr>\n",
       "      <th>1</th>\n",
       "      <td>2022-07-19T20:00:00+10:00</td>\n",
       "      <td>Irwin St - South</td>\n",
       "      <td>Tuesday</td>\n",
       "      <td>9.773153</td>\n",
       "      <td>95.074219</td>\n",
       "      <td>-33.75283688697697, 150.7563883927052</td>\n",
       "      <td>Penrith City Council</td>\n",
       "    </tr>\n",
       "    <tr>\n",
       "      <th>2</th>\n",
       "      <td>2022-07-19T20:00:00+10:00</td>\n",
       "      <td>Water Gum Dr</td>\n",
       "      <td>Tuesday</td>\n",
       "      <td>9.656518</td>\n",
       "      <td>94.585938</td>\n",
       "      <td>-33.725953, 150.72338253</td>\n",
       "      <td>Penrith City Council</td>\n",
       "    </tr>\n",
       "    <tr>\n",
       "      <th>3</th>\n",
       "      <td>2022-03-17T14:30:00+11:00</td>\n",
       "      <td>Parkes Av - Middle</td>\n",
       "      <td>Thursday</td>\n",
       "      <td>27.015088</td>\n",
       "      <td>65.777344</td>\n",
       "      <td>-33.75351902695962, 150.7573530994433</td>\n",
       "      <td>Penrith City Council</td>\n",
       "    </tr>\n",
       "    <tr>\n",
       "      <th>4</th>\n",
       "      <td>2022-03-17T14:30:00+11:00</td>\n",
       "      <td>Eileen Cammack Res - NW</td>\n",
       "      <td>Thursday</td>\n",
       "      <td>28.290034</td>\n",
       "      <td>99.957031</td>\n",
       "      <td>-33.775311802244, 150.6937540223574</td>\n",
       "      <td>Penrith City Council</td>\n",
       "    </tr>\n",
       "    <tr>\n",
       "      <th>5</th>\n",
       "      <td>2022-07-19T20:00:00+10:00</td>\n",
       "      <td>Alinta Promenade</td>\n",
       "      <td>Tuesday</td>\n",
       "      <td>9.564014</td>\n",
       "      <td>95.562500</td>\n",
       "      <td>-33.72551169401475, 150.731087757149</td>\n",
       "      <td>Penrith City Council</td>\n",
       "    </tr>\n",
       "    <tr>\n",
       "      <th>6</th>\n",
       "      <td>2022-03-17T14:30:00+11:00</td>\n",
       "      <td>Boundary Road - South</td>\n",
       "      <td>Thursday</td>\n",
       "      <td>27.932084</td>\n",
       "      <td>63.824219</td>\n",
       "      <td>-33.7138, 150.7012</td>\n",
       "      <td>Penrith City Council</td>\n",
       "    </tr>\n",
       "    <tr>\n",
       "      <th>7</th>\n",
       "      <td>2022-07-19T20:00:00+10:00</td>\n",
       "      <td>Bakers Lane - East</td>\n",
       "      <td>Tuesday</td>\n",
       "      <td>9.066637</td>\n",
       "      <td>92.876953</td>\n",
       "      <td>-33.8334001099992, 150.795536849997</td>\n",
       "      <td>Penrith City Council</td>\n",
       "    </tr>\n",
       "    <tr>\n",
       "      <th>8</th>\n",
       "      <td>2022-03-17T14:30:00+11:00</td>\n",
       "      <td>Northend Ave - North</td>\n",
       "      <td>Thursday</td>\n",
       "      <td>27.359632</td>\n",
       "      <td>65.289062</td>\n",
       "      <td>-33.77390964665433, 150.6927279793041</td>\n",
       "      <td>Penrith City Council</td>\n",
       "    </tr>\n",
       "    <tr>\n",
       "      <th>9</th>\n",
       "      <td>2022-07-19T20:00:00+10:00</td>\n",
       "      <td>Cranebrook Reservoir - South West</td>\n",
       "      <td>Tuesday</td>\n",
       "      <td>9.368281</td>\n",
       "      <td>92.632812</td>\n",
       "      <td>-33.7199386699992, 150.720158009997</td>\n",
       "      <td>Penrith City Council</td>\n",
       "    </tr>\n",
       "  </tbody>\n",
       "</table>\n",
       "</div>"
      ],
      "text/plain": [
       "                        time                        device_name day_of_week  \\\n",
       "0  2022-07-19T20:00:00+10:00          Caddens Oval - North-West     Tuesday   \n",
       "1  2022-07-19T20:00:00+10:00                   Irwin St - South     Tuesday   \n",
       "2  2022-07-19T20:00:00+10:00                       Water Gum Dr     Tuesday   \n",
       "3  2022-03-17T14:30:00+11:00                 Parkes Av - Middle    Thursday   \n",
       "4  2022-03-17T14:30:00+11:00            Eileen Cammack Res - NW    Thursday   \n",
       "5  2022-07-19T20:00:00+10:00                   Alinta Promenade     Tuesday   \n",
       "6  2022-03-17T14:30:00+11:00              Boundary Road - South    Thursday   \n",
       "7  2022-07-19T20:00:00+10:00                 Bakers Lane - East     Tuesday   \n",
       "8  2022-03-17T14:30:00+11:00               Northend Ave - North    Thursday   \n",
       "9  2022-07-19T20:00:00+10:00  Cranebrook Reservoir - South West     Tuesday   \n",
       "\n",
       "   temperature   humidity                            geolocation  \\\n",
       "0     9.344149  96.539062  -33.77534677981919, 150.7385496710238   \n",
       "1     9.773153  95.074219  -33.75283688697697, 150.7563883927052   \n",
       "2     9.656518  94.585938               -33.725953, 150.72338253   \n",
       "3    27.015088  65.777344  -33.75351902695962, 150.7573530994433   \n",
       "4    28.290034  99.957031    -33.775311802244, 150.6937540223574   \n",
       "5     9.564014  95.562500   -33.72551169401475, 150.731087757149   \n",
       "6    27.932084  63.824219                     -33.7138, 150.7012   \n",
       "7     9.066637  92.876953    -33.8334001099992, 150.795536849997   \n",
       "8    27.359632  65.289062  -33.77390964665433, 150.6927279793041   \n",
       "9     9.368281  92.632812    -33.7199386699992, 150.720158009997   \n",
       "\n",
       "                    lga  \n",
       "0  Penrith City Council  \n",
       "1  Penrith City Council  \n",
       "2  Penrith City Council  \n",
       "3  Penrith City Council  \n",
       "4  Penrith City Council  \n",
       "5  Penrith City Council  \n",
       "6  Penrith City Council  \n",
       "7  Penrith City Council  \n",
       "8  Penrith City Council  \n",
       "9  Penrith City Council  "
      ]
     },
     "execution_count": 34,
     "metadata": {},
     "output_type": "execute_result"
    }
   ],
   "source": [
    "#FILL IN - Inspecting the dataframe visually\n",
    "df1.head(10)"
   ]
  },
  {
   "cell_type": "markdown",
   "metadata": {},
   "source": [
    "#### There are several tidiness issues in Dataset 1\n",
    "* The geolocation column contains both longitude and latitude numbers, which makes numerical calculation difficult in one column.\n",
    "* The device names are not consistent. For example, the device Caddens Oval - North-West uses full words \"North-West\" for the location, while device Eileen Cammack Res - NW uses abbreviations instead.\n",
    "* The time format is non-standard datetime format.\n",
    "* There are multiple measurements by different devices at the same time, however, the humidity levels are inconsistent. For example at record 3 and 4, the humidity levels are 65.777344 and 99.957031, respectively. Considering an unique humidity value at each time, the multile humidity values need to be cleaned."
   ]
  },
  {
   "cell_type": "code",
   "execution_count": 35,
   "metadata": {
    "id": "BTuQw7Rbsio4"
   },
   "outputs": [
    {
     "name": "stdout",
     "output_type": "stream",
     "text": [
      "<class 'pandas.core.frame.DataFrame'>\n",
      "RangeIndex: 281378 entries, 0 to 281377\n",
      "Data columns (total 7 columns):\n",
      " #   Column       Non-Null Count   Dtype  \n",
      "---  ------       --------------   -----  \n",
      " 0   time         281378 non-null  object \n",
      " 1   device_name  281378 non-null  object \n",
      " 2   day_of_week  281378 non-null  object \n",
      " 3   temperature  281378 non-null  float64\n",
      " 4   humidity     281378 non-null  float64\n",
      " 5   geolocation  281378 non-null  object \n",
      " 6   lga          281378 non-null  object \n",
      "dtypes: float64(2), object(5)\n",
      "memory usage: 15.0+ MB\n"
     ]
    }
   ],
   "source": [
    "#FILL IN - Inspecting the dataframe programmatically\n",
    "# check if there are any format issue\n",
    "df1.info()"
   ]
  },
  {
   "cell_type": "code",
   "execution_count": 36,
   "metadata": {},
   "outputs": [
    {
     "data": {
      "text/plain": [
       "array(['2022-07-19T20:00:00+10:00', '2022-03-17T14:30:00+11:00',\n",
       "       '2022-03-17T14:00:00+11:00', ..., '2022-12-27T16:30:00+11:00',\n",
       "       '2022-04-01T16:30:00+11:00', '2022-11-11T00:30:00+11:00'],\n",
       "      dtype=object)"
      ]
     },
     "execution_count": 36,
     "metadata": {},
     "output_type": "execute_result"
    }
   ],
   "source": [
    "# time format is not standard, look into the time data\n",
    "df1.time.unique()"
   ]
  },
  {
   "cell_type": "markdown",
   "metadata": {},
   "source": [
    "#### The time format is object but not standard datetime format, which needs to be cleaned."
   ]
  },
  {
   "cell_type": "code",
   "execution_count": null,
   "metadata": {},
   "outputs": [],
   "source": []
  },
  {
   "cell_type": "markdown",
   "metadata": {
    "id": "4ffMoRGSwzYj"
   },
   "source": [
    "### Tidiness Issue 2: \n",
    "* Date and time are separated into two columns\n",
    "* Date and time are not in standard datetime format"
   ]
  },
  {
   "cell_type": "code",
   "execution_count": 37,
   "metadata": {
    "id": "XUpeoqokw5Qt",
    "scrolled": true
   },
   "outputs": [
    {
     "data": {
      "text/html": [
       "<div>\n",
       "<style scoped>\n",
       "    .dataframe tbody tr th:only-of-type {\n",
       "        vertical-align: middle;\n",
       "    }\n",
       "\n",
       "    .dataframe tbody tr th {\n",
       "        vertical-align: top;\n",
       "    }\n",
       "\n",
       "    .dataframe thead th {\n",
       "        text-align: right;\n",
       "    }\n",
       "</style>\n",
       "<table border=\"1\" class=\"dataframe\">\n",
       "  <thead>\n",
       "    <tr style=\"text-align: right;\">\n",
       "      <th></th>\n",
       "      <th>date</th>\n",
       "      <th>time</th>\n",
       "      <th>pm_10</th>\n",
       "      <th>pm_25</th>\n",
       "    </tr>\n",
       "  </thead>\n",
       "  <tbody>\n",
       "    <tr>\n",
       "      <th>0</th>\n",
       "      <td>19/07/2022</td>\n",
       "      <td>01:00</td>\n",
       "      <td>10.2</td>\n",
       "      <td>5.5</td>\n",
       "    </tr>\n",
       "    <tr>\n",
       "      <th>1</th>\n",
       "      <td>19/07/2022</td>\n",
       "      <td>02:00</td>\n",
       "      <td>9.8</td>\n",
       "      <td>8.0</td>\n",
       "    </tr>\n",
       "    <tr>\n",
       "      <th>2</th>\n",
       "      <td>19/07/2022</td>\n",
       "      <td>03:00</td>\n",
       "      <td>8.6</td>\n",
       "      <td>10.8</td>\n",
       "    </tr>\n",
       "    <tr>\n",
       "      <th>3</th>\n",
       "      <td>19/07/2022</td>\n",
       "      <td>04:00</td>\n",
       "      <td>7.6</td>\n",
       "      <td>6.4</td>\n",
       "    </tr>\n",
       "    <tr>\n",
       "      <th>4</th>\n",
       "      <td>19/07/2022</td>\n",
       "      <td>05:00</td>\n",
       "      <td>8.4</td>\n",
       "      <td>8.6</td>\n",
       "    </tr>\n",
       "  </tbody>\n",
       "</table>\n",
       "</div>"
      ],
      "text/plain": [
       "         date   time  pm_10  pm_25\n",
       "0  19/07/2022  01:00   10.2    5.5\n",
       "1  19/07/2022  02:00    9.8    8.0\n",
       "2  19/07/2022  03:00    8.6   10.8\n",
       "3  19/07/2022  04:00    7.6    6.4\n",
       "4  19/07/2022  05:00    8.4    8.6"
      ]
     },
     "execution_count": 37,
     "metadata": {},
     "output_type": "execute_result"
    }
   ],
   "source": [
    "#FILL IN - Inspecting the dataframe visually\n",
    "df2.head()"
   ]
  },
  {
   "cell_type": "markdown",
   "metadata": {},
   "source": [
    "#### Date and time are not necessarily to be stored in two columns, the two columns can be merged into one."
   ]
  },
  {
   "cell_type": "code",
   "execution_count": 38,
   "metadata": {
    "id": "c8JK4DoXxtFA"
   },
   "outputs": [
    {
     "name": "stdout",
     "output_type": "stream",
     "text": [
      "<class 'pandas.core.frame.DataFrame'>\n",
      "RangeIndex: 2784 entries, 0 to 2783\n",
      "Data columns (total 4 columns):\n",
      " #   Column  Non-Null Count  Dtype  \n",
      "---  ------  --------------  -----  \n",
      " 0   date    2784 non-null   object \n",
      " 1   time    2784 non-null   object \n",
      " 2   pm_10   2776 non-null   float64\n",
      " 3   pm_25   2761 non-null   float64\n",
      "dtypes: float64(2), object(2)\n",
      "memory usage: 87.1+ KB\n"
     ]
    }
   ],
   "source": [
    "#FILL IN - Inspecting the dataframe programmatically\n",
    "df2.info()"
   ]
  },
  {
   "cell_type": "markdown",
   "metadata": {},
   "source": [
    "#### The Date and time formats are object which are non-standard datetime format. These columns need to be reformated."
   ]
  },
  {
   "cell_type": "markdown",
   "metadata": {},
   "source": [
    "#### To sum up, two tidiness issues are found in Dataset 2,\n",
    "* Date and time are separated into two columns\n",
    "* Date and time are not in standard datetime format"
   ]
  },
  {
   "cell_type": "code",
   "execution_count": null,
   "metadata": {},
   "outputs": [],
   "source": []
  },
  {
   "cell_type": "markdown",
   "metadata": {
    "id": "D6gmLnBttpCh"
   },
   "source": [
    "## 3. Clean data\n",
    "Clean the data to solve the 4 issues corresponding to data quality and tidiness found in the assessing step. **Make sure you include justifications for your cleaning decisions.**\n",
    "\n",
    "After the cleaning for each issue, please use **either** the visually or programatical method to validate the cleaning was succesful.\n",
    "\n",
    "At this stage, you are also expected to remove variables that are unnecessary for your analysis and combine your datasets. Depending on your datasets, you may choose to perform variable combination and elimination before or after the cleaning stage. Your dataset must have **at least** 4 variables after combining the data."
   ]
  },
  {
   "cell_type": "code",
   "execution_count": 39,
   "metadata": {},
   "outputs": [],
   "source": [
    "# FILL IN - Make copies of the datasets to ensure the raw dataframes \n",
    "# are not impacted\n",
    "df1c,df2c = df1.copy(),df2.copy()"
   ]
  },
  {
   "cell_type": "code",
   "execution_count": null,
   "metadata": {},
   "outputs": [],
   "source": []
  },
  {
   "cell_type": "markdown",
   "metadata": {
    "id": "FmFhN52Yyn3l"
   },
   "source": [
    "### **Quality Issue 1: outliers in Dataset 1**"
   ]
  },
  {
   "cell_type": "markdown",
   "metadata": {},
   "source": [
    "#### To remove the outliers, values that are not in the range from $\\mu - \\sigma$ to $\\mu + \\sigma$ are excluded, where $\\mu$ and $\\sigma$ are the mean and standard deviation, respectively."
   ]
  },
  {
   "cell_type": "code",
   "execution_count": 40,
   "metadata": {
    "id": "9UejDWrNMW4a"
   },
   "outputs": [],
   "source": [
    "# FILL IN - Apply the cleaning strategy"
   ]
  },
  {
   "cell_type": "code",
   "execution_count": 41,
   "metadata": {},
   "outputs": [],
   "source": [
    "# get the statistics of df1c\n",
    "stat = df1c.describe().T"
   ]
  },
  {
   "cell_type": "code",
   "execution_count": 42,
   "metadata": {},
   "outputs": [],
   "source": [
    "# get the temperature and humidity ranges using the mean and std\n",
    "range_temperature = [stat.loc['temperature','mean'] - stat.loc['temperature','std'], stat.loc['temperature','mean'] + stat.loc['temperature','std']]\n",
    "range_humidity = [stat.loc['humidity','mean'] - stat.loc['humidity','std'], stat.loc['humidity','mean'] + stat.loc['humidity','std']]"
   ]
  },
  {
   "cell_type": "code",
   "execution_count": 43,
   "metadata": {},
   "outputs": [
    {
     "data": {
      "text/plain": [
       "[56.868894982551495, 95.03760309898828]"
      ]
     },
     "execution_count": 43,
     "metadata": {},
     "output_type": "execute_result"
    }
   ],
   "source": [
    "range_humidity"
   ]
  },
  {
   "cell_type": "code",
   "execution_count": 44,
   "metadata": {},
   "outputs": [
    {
     "data": {
      "text/html": [
       "<div>\n",
       "<style scoped>\n",
       "    .dataframe tbody tr th:only-of-type {\n",
       "        vertical-align: middle;\n",
       "    }\n",
       "\n",
       "    .dataframe tbody tr th {\n",
       "        vertical-align: top;\n",
       "    }\n",
       "\n",
       "    .dataframe thead th {\n",
       "        text-align: right;\n",
       "    }\n",
       "</style>\n",
       "<table border=\"1\" class=\"dataframe\">\n",
       "  <thead>\n",
       "    <tr style=\"text-align: right;\">\n",
       "      <th></th>\n",
       "      <th>time</th>\n",
       "      <th>device_name</th>\n",
       "      <th>day_of_week</th>\n",
       "      <th>temperature</th>\n",
       "      <th>humidity</th>\n",
       "      <th>geolocation</th>\n",
       "      <th>lga</th>\n",
       "    </tr>\n",
       "  </thead>\n",
       "  <tbody>\n",
       "    <tr>\n",
       "      <th>63</th>\n",
       "      <td>2022-07-19T18:00:00+10:00</td>\n",
       "      <td>Parkes Av - West</td>\n",
       "      <td>Tuesday</td>\n",
       "      <td>10.836278</td>\n",
       "      <td>90.923828</td>\n",
       "      <td>-33.75586617358723, 150.7566024508745</td>\n",
       "      <td>Penrith City Council</td>\n",
       "    </tr>\n",
       "    <tr>\n",
       "      <th>74</th>\n",
       "      <td>2022-07-19T17:30:00+10:00</td>\n",
       "      <td>Boundary Road - South</td>\n",
       "      <td>Tuesday</td>\n",
       "      <td>11.070890</td>\n",
       "      <td>83.843750</td>\n",
       "      <td>-33.7138, 150.7012</td>\n",
       "      <td>Penrith City Council</td>\n",
       "    </tr>\n",
       "    <tr>\n",
       "      <th>76</th>\n",
       "      <td>2022-07-19T17:30:00+10:00</td>\n",
       "      <td>Parkes Av - West</td>\n",
       "      <td>Tuesday</td>\n",
       "      <td>10.935486</td>\n",
       "      <td>89.214844</td>\n",
       "      <td>-33.75586617358723, 150.7566024508745</td>\n",
       "      <td>Penrith City Council</td>\n",
       "    </tr>\n",
       "    <tr>\n",
       "      <th>81</th>\n",
       "      <td>2022-07-19T17:30:00+10:00</td>\n",
       "      <td>Bushland - Chapman St</td>\n",
       "      <td>Tuesday</td>\n",
       "      <td>11.027990</td>\n",
       "      <td>87.750000</td>\n",
       "      <td>-33.7606475919, 150.753248686</td>\n",
       "      <td>Penrith City Council</td>\n",
       "    </tr>\n",
       "    <tr>\n",
       "      <th>82</th>\n",
       "      <td>2022-07-19T17:30:00+10:00</td>\n",
       "      <td>Blackford Cres - Stokes</td>\n",
       "      <td>Tuesday</td>\n",
       "      <td>10.821531</td>\n",
       "      <td>85.796875</td>\n",
       "      <td>-33.77758258, 150.692869</td>\n",
       "      <td>Penrith City Council</td>\n",
       "    </tr>\n",
       "  </tbody>\n",
       "</table>\n",
       "</div>"
      ],
      "text/plain": [
       "                         time              device_name day_of_week  \\\n",
       "63  2022-07-19T18:00:00+10:00         Parkes Av - West     Tuesday   \n",
       "74  2022-07-19T17:30:00+10:00    Boundary Road - South     Tuesday   \n",
       "76  2022-07-19T17:30:00+10:00         Parkes Av - West     Tuesday   \n",
       "81  2022-07-19T17:30:00+10:00    Bushland - Chapman St     Tuesday   \n",
       "82  2022-07-19T17:30:00+10:00  Blackford Cres - Stokes     Tuesday   \n",
       "\n",
       "    temperature   humidity                            geolocation  \\\n",
       "63    10.836278  90.923828  -33.75586617358723, 150.7566024508745   \n",
       "74    11.070890  83.843750                     -33.7138, 150.7012   \n",
       "76    10.935486  89.214844  -33.75586617358723, 150.7566024508745   \n",
       "81    11.027990  87.750000          -33.7606475919, 150.753248686   \n",
       "82    10.821531  85.796875               -33.77758258, 150.692869   \n",
       "\n",
       "                     lga  \n",
       "63  Penrith City Council  \n",
       "74  Penrith City Council  \n",
       "76  Penrith City Council  \n",
       "81  Penrith City Council  \n",
       "82  Penrith City Council  "
      ]
     },
     "execution_count": 44,
     "metadata": {},
     "output_type": "execute_result"
    }
   ],
   "source": [
    "# select the value in range to remove outliers\n",
    "df1c = df1c[(df1c['temperature'] >= range_temperature[0]) &(df1c['temperature'] <= range_temperature[1])]\n",
    "df1c.head()"
   ]
  },
  {
   "cell_type": "code",
   "execution_count": 45,
   "metadata": {},
   "outputs": [
    {
     "data": {
      "text/html": [
       "<div>\n",
       "<style scoped>\n",
       "    .dataframe tbody tr th:only-of-type {\n",
       "        vertical-align: middle;\n",
       "    }\n",
       "\n",
       "    .dataframe tbody tr th {\n",
       "        vertical-align: top;\n",
       "    }\n",
       "\n",
       "    .dataframe thead th {\n",
       "        text-align: right;\n",
       "    }\n",
       "</style>\n",
       "<table border=\"1\" class=\"dataframe\">\n",
       "  <thead>\n",
       "    <tr style=\"text-align: right;\">\n",
       "      <th></th>\n",
       "      <th>time</th>\n",
       "      <th>device_name</th>\n",
       "      <th>day_of_week</th>\n",
       "      <th>temperature</th>\n",
       "      <th>humidity</th>\n",
       "      <th>geolocation</th>\n",
       "      <th>lga</th>\n",
       "    </tr>\n",
       "  </thead>\n",
       "  <tbody>\n",
       "    <tr>\n",
       "      <th>63</th>\n",
       "      <td>2022-07-19T18:00:00+10:00</td>\n",
       "      <td>Parkes Av - West</td>\n",
       "      <td>Tuesday</td>\n",
       "      <td>10.836278</td>\n",
       "      <td>90.923828</td>\n",
       "      <td>-33.75586617358723, 150.7566024508745</td>\n",
       "      <td>Penrith City Council</td>\n",
       "    </tr>\n",
       "    <tr>\n",
       "      <th>74</th>\n",
       "      <td>2022-07-19T17:30:00+10:00</td>\n",
       "      <td>Boundary Road - South</td>\n",
       "      <td>Tuesday</td>\n",
       "      <td>11.070890</td>\n",
       "      <td>83.843750</td>\n",
       "      <td>-33.7138, 150.7012</td>\n",
       "      <td>Penrith City Council</td>\n",
       "    </tr>\n",
       "    <tr>\n",
       "      <th>76</th>\n",
       "      <td>2022-07-19T17:30:00+10:00</td>\n",
       "      <td>Parkes Av - West</td>\n",
       "      <td>Tuesday</td>\n",
       "      <td>10.935486</td>\n",
       "      <td>89.214844</td>\n",
       "      <td>-33.75586617358723, 150.7566024508745</td>\n",
       "      <td>Penrith City Council</td>\n",
       "    </tr>\n",
       "    <tr>\n",
       "      <th>81</th>\n",
       "      <td>2022-07-19T17:30:00+10:00</td>\n",
       "      <td>Bushland - Chapman St</td>\n",
       "      <td>Tuesday</td>\n",
       "      <td>11.027990</td>\n",
       "      <td>87.750000</td>\n",
       "      <td>-33.7606475919, 150.753248686</td>\n",
       "      <td>Penrith City Council</td>\n",
       "    </tr>\n",
       "    <tr>\n",
       "      <th>82</th>\n",
       "      <td>2022-07-19T17:30:00+10:00</td>\n",
       "      <td>Blackford Cres - Stokes</td>\n",
       "      <td>Tuesday</td>\n",
       "      <td>10.821531</td>\n",
       "      <td>85.796875</td>\n",
       "      <td>-33.77758258, 150.692869</td>\n",
       "      <td>Penrith City Council</td>\n",
       "    </tr>\n",
       "  </tbody>\n",
       "</table>\n",
       "</div>"
      ],
      "text/plain": [
       "                         time              device_name day_of_week  \\\n",
       "63  2022-07-19T18:00:00+10:00         Parkes Av - West     Tuesday   \n",
       "74  2022-07-19T17:30:00+10:00    Boundary Road - South     Tuesday   \n",
       "76  2022-07-19T17:30:00+10:00         Parkes Av - West     Tuesday   \n",
       "81  2022-07-19T17:30:00+10:00    Bushland - Chapman St     Tuesday   \n",
       "82  2022-07-19T17:30:00+10:00  Blackford Cres - Stokes     Tuesday   \n",
       "\n",
       "    temperature   humidity                            geolocation  \\\n",
       "63    10.836278  90.923828  -33.75586617358723, 150.7566024508745   \n",
       "74    11.070890  83.843750                     -33.7138, 150.7012   \n",
       "76    10.935486  89.214844  -33.75586617358723, 150.7566024508745   \n",
       "81    11.027990  87.750000          -33.7606475919, 150.753248686   \n",
       "82    10.821531  85.796875               -33.77758258, 150.692869   \n",
       "\n",
       "                     lga  \n",
       "63  Penrith City Council  \n",
       "74  Penrith City Council  \n",
       "76  Penrith City Council  \n",
       "81  Penrith City Council  \n",
       "82  Penrith City Council  "
      ]
     },
     "execution_count": 45,
     "metadata": {},
     "output_type": "execute_result"
    }
   ],
   "source": [
    "df1c = df1c[(df1c['humidity'] >= range_humidity[0]) &(df1c['humidity'] <= range_humidity[1])]\n",
    "df1c.head()"
   ]
  },
  {
   "cell_type": "code",
   "execution_count": 46,
   "metadata": {
    "id": "oUBee-LPytkv"
   },
   "outputs": [],
   "source": [
    "# Check if the cleaning was successful"
   ]
  },
  {
   "cell_type": "code",
   "execution_count": 47,
   "metadata": {},
   "outputs": [
    {
     "data": {
      "text/html": [
       "<div>\n",
       "<style scoped>\n",
       "    .dataframe tbody tr th:only-of-type {\n",
       "        vertical-align: middle;\n",
       "    }\n",
       "\n",
       "    .dataframe tbody tr th {\n",
       "        vertical-align: top;\n",
       "    }\n",
       "\n",
       "    .dataframe thead th {\n",
       "        text-align: right;\n",
       "    }\n",
       "</style>\n",
       "<table border=\"1\" class=\"dataframe\">\n",
       "  <thead>\n",
       "    <tr style=\"text-align: right;\">\n",
       "      <th></th>\n",
       "      <th>count</th>\n",
       "      <th>mean</th>\n",
       "      <th>std</th>\n",
       "      <th>min</th>\n",
       "      <th>25%</th>\n",
       "      <th>50%</th>\n",
       "      <th>75%</th>\n",
       "      <th>max</th>\n",
       "    </tr>\n",
       "  </thead>\n",
       "  <tbody>\n",
       "    <tr>\n",
       "      <th>temperature</th>\n",
       "      <td>117755.0</td>\n",
       "      <td>16.129540</td>\n",
       "      <td>3.078510</td>\n",
       "      <td>10.648589</td>\n",
       "      <td>13.59665</td>\n",
       "      <td>16.095598</td>\n",
       "      <td>18.628062</td>\n",
       "      <td>22.093609</td>\n",
       "    </tr>\n",
       "    <tr>\n",
       "      <th>humidity</th>\n",
       "      <td>117755.0</td>\n",
       "      <td>77.487367</td>\n",
       "      <td>10.936556</td>\n",
       "      <td>56.988281</td>\n",
       "      <td>68.21875</td>\n",
       "      <td>77.984375</td>\n",
       "      <td>87.261719</td>\n",
       "      <td>94.830078</td>\n",
       "    </tr>\n",
       "  </tbody>\n",
       "</table>\n",
       "</div>"
      ],
      "text/plain": [
       "                count       mean        std        min       25%        50%  \\\n",
       "temperature  117755.0  16.129540   3.078510  10.648589  13.59665  16.095598   \n",
       "humidity     117755.0  77.487367  10.936556  56.988281  68.21875  77.984375   \n",
       "\n",
       "                   75%        max  \n",
       "temperature  18.628062  22.093609  \n",
       "humidity     87.261719  94.830078  "
      ]
     },
     "execution_count": 47,
     "metadata": {},
     "output_type": "execute_result"
    }
   ],
   "source": [
    "df1c.describe().T"
   ]
  },
  {
   "cell_type": "markdown",
   "metadata": {},
   "source": [
    "#### The outliers in Dataset 1 are cleaned"
   ]
  },
  {
   "cell_type": "code",
   "execution_count": null,
   "metadata": {},
   "outputs": [],
   "source": []
  },
  {
   "cell_type": "markdown",
   "metadata": {
    "id": "n_DAUbJrymBL"
   },
   "source": [
    "### **Quality Issue 2:**\n",
    "* NA values in PM2.5 column\n",
    "* PM concentrations are found below zero which are invalid\n",
    "* Outliers in both PM2.5 and PM10 values"
   ]
  },
  {
   "cell_type": "markdown",
   "metadata": {},
   "source": [
    "#### Only 23 records are with NA values in PM2.5 and 8 records in PM10, it is not expected to have significant impacts on the data analysis after dropping the NA records"
   ]
  },
  {
   "cell_type": "code",
   "execution_count": 48,
   "metadata": {
    "id": "5Yfb-Yu5MTuE"
   },
   "outputs": [],
   "source": [
    "#FILL IN - Apply the cleaning strategy\n",
    "# remove NA valuesa\n",
    "df2c.dropna(axis=0,inplace=True)"
   ]
  },
  {
   "cell_type": "code",
   "execution_count": 49,
   "metadata": {},
   "outputs": [
    {
     "data": {
      "text/plain": [
       "date     0\n",
       "time     0\n",
       "pm_10    0\n",
       "pm_25    0\n",
       "dtype: int64"
      ]
     },
     "execution_count": 49,
     "metadata": {},
     "output_type": "execute_result"
    }
   ],
   "source": [
    "# check if there are still null values\n",
    "df2c.isnull().sum()"
   ]
  },
  {
   "cell_type": "code",
   "execution_count": 50,
   "metadata": {},
   "outputs": [
    {
     "data": {
      "text/html": [
       "<div>\n",
       "<style scoped>\n",
       "    .dataframe tbody tr th:only-of-type {\n",
       "        vertical-align: middle;\n",
       "    }\n",
       "\n",
       "    .dataframe tbody tr th {\n",
       "        vertical-align: top;\n",
       "    }\n",
       "\n",
       "    .dataframe thead th {\n",
       "        text-align: right;\n",
       "    }\n",
       "</style>\n",
       "<table border=\"1\" class=\"dataframe\">\n",
       "  <thead>\n",
       "    <tr style=\"text-align: right;\">\n",
       "      <th></th>\n",
       "      <th>count</th>\n",
       "      <th>mean</th>\n",
       "      <th>std</th>\n",
       "      <th>min</th>\n",
       "      <th>25%</th>\n",
       "      <th>50%</th>\n",
       "      <th>75%</th>\n",
       "      <th>max</th>\n",
       "    </tr>\n",
       "  </thead>\n",
       "  <tbody>\n",
       "    <tr>\n",
       "      <th>pm_10</th>\n",
       "      <td>2757.0</td>\n",
       "      <td>11.986398</td>\n",
       "      <td>7.002102</td>\n",
       "      <td>-5.1</td>\n",
       "      <td>7.3</td>\n",
       "      <td>10.8</td>\n",
       "      <td>15.1</td>\n",
       "      <td>76.9</td>\n",
       "    </tr>\n",
       "    <tr>\n",
       "      <th>pm_25</th>\n",
       "      <td>2757.0</td>\n",
       "      <td>5.209322</td>\n",
       "      <td>6.598328</td>\n",
       "      <td>-9.6</td>\n",
       "      <td>1.3</td>\n",
       "      <td>4.2</td>\n",
       "      <td>8.1</td>\n",
       "      <td>41.8</td>\n",
       "    </tr>\n",
       "  </tbody>\n",
       "</table>\n",
       "</div>"
      ],
      "text/plain": [
       "        count       mean       std  min  25%   50%   75%   max\n",
       "pm_10  2757.0  11.986398  7.002102 -5.1  7.3  10.8  15.1  76.9\n",
       "pm_25  2757.0   5.209322  6.598328 -9.6  1.3   4.2   8.1  41.8"
      ]
     },
     "execution_count": 50,
     "metadata": {},
     "output_type": "execute_result"
    }
   ],
   "source": [
    "# look into the stats\n",
    "stat = df2c.describe().T\n",
    "stat"
   ]
  },
  {
   "cell_type": "code",
   "execution_count": 51,
   "metadata": {},
   "outputs": [],
   "source": [
    "# set the range\n",
    "range_pm_10 = [stat.loc['pm_10','mean'] - stat.loc['pm_10','std'], stat.loc['pm_10','mean'] + stat.loc['pm_10','std']]\n",
    "range_pm_25 = [stat.loc['pm_25','mean'] - stat.loc['pm_25','std'], stat.loc['pm_25','mean'] + stat.loc['pm_25','std']]"
   ]
  },
  {
   "cell_type": "code",
   "execution_count": 52,
   "metadata": {},
   "outputs": [],
   "source": [
    "# slice the dataframe\n",
    "df2c = df2c[(df2c.pm_10 >= range_pm_10[0])&(df2c.pm_10 <= range_pm_10[1])]\n",
    "df2c = df2c[(df2c.pm_25 >= range_pm_25[0])&(df2c.pm_25 <= range_pm_25[1])]"
   ]
  },
  {
   "cell_type": "code",
   "execution_count": 53,
   "metadata": {},
   "outputs": [],
   "source": [
    "# remove the negative values\n",
    "df2c = df2c.query('pm_10 >= 0').query('pm_25 >= 0')"
   ]
  },
  {
   "cell_type": "code",
   "execution_count": 54,
   "metadata": {},
   "outputs": [
    {
     "data": {
      "text/html": [
       "<div>\n",
       "<style scoped>\n",
       "    .dataframe tbody tr th:only-of-type {\n",
       "        vertical-align: middle;\n",
       "    }\n",
       "\n",
       "    .dataframe tbody tr th {\n",
       "        vertical-align: top;\n",
       "    }\n",
       "\n",
       "    .dataframe thead th {\n",
       "        text-align: right;\n",
       "    }\n",
       "</style>\n",
       "<table border=\"1\" class=\"dataframe\">\n",
       "  <thead>\n",
       "    <tr style=\"text-align: right;\">\n",
       "      <th></th>\n",
       "      <th>date</th>\n",
       "      <th>time</th>\n",
       "      <th>pm_10</th>\n",
       "      <th>pm_25</th>\n",
       "    </tr>\n",
       "  </thead>\n",
       "  <tbody>\n",
       "    <tr>\n",
       "      <th>0</th>\n",
       "      <td>19/07/2022</td>\n",
       "      <td>01:00</td>\n",
       "      <td>10.2</td>\n",
       "      <td>5.5</td>\n",
       "    </tr>\n",
       "    <tr>\n",
       "      <th>1</th>\n",
       "      <td>19/07/2022</td>\n",
       "      <td>02:00</td>\n",
       "      <td>9.8</td>\n",
       "      <td>8.0</td>\n",
       "    </tr>\n",
       "    <tr>\n",
       "      <th>2</th>\n",
       "      <td>19/07/2022</td>\n",
       "      <td>03:00</td>\n",
       "      <td>8.6</td>\n",
       "      <td>10.8</td>\n",
       "    </tr>\n",
       "    <tr>\n",
       "      <th>3</th>\n",
       "      <td>19/07/2022</td>\n",
       "      <td>04:00</td>\n",
       "      <td>7.6</td>\n",
       "      <td>6.4</td>\n",
       "    </tr>\n",
       "    <tr>\n",
       "      <th>4</th>\n",
       "      <td>19/07/2022</td>\n",
       "      <td>05:00</td>\n",
       "      <td>8.4</td>\n",
       "      <td>8.6</td>\n",
       "    </tr>\n",
       "  </tbody>\n",
       "</table>\n",
       "</div>"
      ],
      "text/plain": [
       "         date   time  pm_10  pm_25\n",
       "0  19/07/2022  01:00   10.2    5.5\n",
       "1  19/07/2022  02:00    9.8    8.0\n",
       "2  19/07/2022  03:00    8.6   10.8\n",
       "3  19/07/2022  04:00    7.6    6.4\n",
       "4  19/07/2022  05:00    8.4    8.6"
      ]
     },
     "execution_count": 54,
     "metadata": {},
     "output_type": "execute_result"
    }
   ],
   "source": [
    "df2c.head()"
   ]
  },
  {
   "cell_type": "code",
   "execution_count": 55,
   "metadata": {
    "id": "ionB2sRaMUmY"
   },
   "outputs": [
    {
     "data": {
      "text/html": [
       "<div>\n",
       "<style scoped>\n",
       "    .dataframe tbody tr th:only-of-type {\n",
       "        vertical-align: middle;\n",
       "    }\n",
       "\n",
       "    .dataframe tbody tr th {\n",
       "        vertical-align: top;\n",
       "    }\n",
       "\n",
       "    .dataframe thead th {\n",
       "        text-align: right;\n",
       "    }\n",
       "</style>\n",
       "<table border=\"1\" class=\"dataframe\">\n",
       "  <thead>\n",
       "    <tr style=\"text-align: right;\">\n",
       "      <th></th>\n",
       "      <th>count</th>\n",
       "      <th>mean</th>\n",
       "      <th>std</th>\n",
       "      <th>min</th>\n",
       "      <th>25%</th>\n",
       "      <th>50%</th>\n",
       "      <th>75%</th>\n",
       "      <th>max</th>\n",
       "    </tr>\n",
       "  </thead>\n",
       "  <tbody>\n",
       "    <tr>\n",
       "      <th>pm_10</th>\n",
       "      <td>1503.0</td>\n",
       "      <td>11.086228</td>\n",
       "      <td>3.618059</td>\n",
       "      <td>5.0</td>\n",
       "      <td>8.0</td>\n",
       "      <td>10.9</td>\n",
       "      <td>13.8</td>\n",
       "      <td>18.9</td>\n",
       "    </tr>\n",
       "    <tr>\n",
       "      <th>pm_25</th>\n",
       "      <td>1503.0</td>\n",
       "      <td>4.867199</td>\n",
       "      <td>3.007549</td>\n",
       "      <td>0.0</td>\n",
       "      <td>2.4</td>\n",
       "      <td>4.4</td>\n",
       "      <td>7.1</td>\n",
       "      <td>11.8</td>\n",
       "    </tr>\n",
       "  </tbody>\n",
       "</table>\n",
       "</div>"
      ],
      "text/plain": [
       "        count       mean       std  min  25%   50%   75%   max\n",
       "pm_10  1503.0  11.086228  3.618059  5.0  8.0  10.9  13.8  18.9\n",
       "pm_25  1503.0   4.867199  3.007549  0.0  2.4   4.4   7.1  11.8"
      ]
     },
     "execution_count": 55,
     "metadata": {},
     "output_type": "execute_result"
    }
   ],
   "source": [
    "#Check if the cleaning was successful\n",
    "df2c.describe().T"
   ]
  },
  {
   "cell_type": "markdown",
   "metadata": {},
   "source": [
    "#### Now the aforementioned quality issues are solved for Dataset 2"
   ]
  },
  {
   "cell_type": "markdown",
   "metadata": {
    "id": "bIUrrfSNyOPR"
   },
   "source": [
    "### **Tidiness Issue 1: There are several tidiness issues in Dataset 1**\n",
    "* The geolocation column contains both longitude and latitude numbers, which makes numerical calculation difficult in one column.\n",
    "* The device names are not consistent. For example, the device Caddens Oval - North-West uses full words \"North-West\" for the location, while device Eileen Cammack Res - NW uses abbreviations instead.\n",
    "* The time format is non-standard datetime format.\n",
    "* There are multiple measurements by different devices at the same time, however, the humidity levels are inconsistent. For example at record 3 and 4, the humidity levels are 65.777344 and 99.957031, respectively. Considering an unique humidity value at each time, the multile humidity values need to be cleaned."
   ]
  },
  {
   "cell_type": "markdown",
   "metadata": {},
   "source": [
    "#### The measurements are focused in Penrith suburb. The distantces between measurement points are negligible in an atmospheric scale. Therefore, the device names, geolocations and lga are redundant for this investigation."
   ]
  },
  {
   "cell_type": "code",
   "execution_count": 56,
   "metadata": {},
   "outputs": [
    {
     "data": {
      "text/html": [
       "<div>\n",
       "<style scoped>\n",
       "    .dataframe tbody tr th:only-of-type {\n",
       "        vertical-align: middle;\n",
       "    }\n",
       "\n",
       "    .dataframe tbody tr th {\n",
       "        vertical-align: top;\n",
       "    }\n",
       "\n",
       "    .dataframe thead th {\n",
       "        text-align: right;\n",
       "    }\n",
       "</style>\n",
       "<table border=\"1\" class=\"dataframe\">\n",
       "  <thead>\n",
       "    <tr style=\"text-align: right;\">\n",
       "      <th></th>\n",
       "      <th>time</th>\n",
       "      <th>day_of_week</th>\n",
       "      <th>temperature</th>\n",
       "      <th>humidity</th>\n",
       "    </tr>\n",
       "  </thead>\n",
       "  <tbody>\n",
       "    <tr>\n",
       "      <th>63</th>\n",
       "      <td>2022-07-19T18:00:00+10:00</td>\n",
       "      <td>Tuesday</td>\n",
       "      <td>10.836278</td>\n",
       "      <td>90.923828</td>\n",
       "    </tr>\n",
       "    <tr>\n",
       "      <th>74</th>\n",
       "      <td>2022-07-19T17:30:00+10:00</td>\n",
       "      <td>Tuesday</td>\n",
       "      <td>11.070890</td>\n",
       "      <td>83.843750</td>\n",
       "    </tr>\n",
       "    <tr>\n",
       "      <th>76</th>\n",
       "      <td>2022-07-19T17:30:00+10:00</td>\n",
       "      <td>Tuesday</td>\n",
       "      <td>10.935486</td>\n",
       "      <td>89.214844</td>\n",
       "    </tr>\n",
       "    <tr>\n",
       "      <th>81</th>\n",
       "      <td>2022-07-19T17:30:00+10:00</td>\n",
       "      <td>Tuesday</td>\n",
       "      <td>11.027990</td>\n",
       "      <td>87.750000</td>\n",
       "    </tr>\n",
       "    <tr>\n",
       "      <th>82</th>\n",
       "      <td>2022-07-19T17:30:00+10:00</td>\n",
       "      <td>Tuesday</td>\n",
       "      <td>10.821531</td>\n",
       "      <td>85.796875</td>\n",
       "    </tr>\n",
       "  </tbody>\n",
       "</table>\n",
       "</div>"
      ],
      "text/plain": [
       "                         time day_of_week  temperature   humidity\n",
       "63  2022-07-19T18:00:00+10:00     Tuesday    10.836278  90.923828\n",
       "74  2022-07-19T17:30:00+10:00     Tuesday    11.070890  83.843750\n",
       "76  2022-07-19T17:30:00+10:00     Tuesday    10.935486  89.214844\n",
       "81  2022-07-19T17:30:00+10:00     Tuesday    11.027990  87.750000\n",
       "82  2022-07-19T17:30:00+10:00     Tuesday    10.821531  85.796875"
      ]
     },
     "execution_count": 56,
     "metadata": {},
     "output_type": "execute_result"
    }
   ],
   "source": [
    "# drop the redundant columns\n",
    "df1c.drop(['device_name','geolocation','lga'],axis=1,inplace=True)\n",
    "df1c.head()"
   ]
  },
  {
   "cell_type": "markdown",
   "metadata": {},
   "source": [
    "#### Reformat the datetime in time column. The time difference is actually not necessary as both Dataset 1 and 2 are using Sydney time."
   ]
  },
  {
   "cell_type": "code",
   "execution_count": 57,
   "metadata": {},
   "outputs": [
    {
     "data": {
      "text/html": [
       "<div>\n",
       "<style scoped>\n",
       "    .dataframe tbody tr th:only-of-type {\n",
       "        vertical-align: middle;\n",
       "    }\n",
       "\n",
       "    .dataframe tbody tr th {\n",
       "        vertical-align: top;\n",
       "    }\n",
       "\n",
       "    .dataframe thead th {\n",
       "        text-align: right;\n",
       "    }\n",
       "</style>\n",
       "<table border=\"1\" class=\"dataframe\">\n",
       "  <thead>\n",
       "    <tr style=\"text-align: right;\">\n",
       "      <th></th>\n",
       "      <th>time</th>\n",
       "      <th>day_of_week</th>\n",
       "      <th>temperature</th>\n",
       "      <th>humidity</th>\n",
       "    </tr>\n",
       "  </thead>\n",
       "  <tbody>\n",
       "    <tr>\n",
       "      <th>63</th>\n",
       "      <td>2022-07-19 18:00:00</td>\n",
       "      <td>Tuesday</td>\n",
       "      <td>10.836278</td>\n",
       "      <td>90.923828</td>\n",
       "    </tr>\n",
       "    <tr>\n",
       "      <th>74</th>\n",
       "      <td>2022-07-19 17:30:00</td>\n",
       "      <td>Tuesday</td>\n",
       "      <td>11.070890</td>\n",
       "      <td>83.843750</td>\n",
       "    </tr>\n",
       "    <tr>\n",
       "      <th>76</th>\n",
       "      <td>2022-07-19 17:30:00</td>\n",
       "      <td>Tuesday</td>\n",
       "      <td>10.935486</td>\n",
       "      <td>89.214844</td>\n",
       "    </tr>\n",
       "    <tr>\n",
       "      <th>81</th>\n",
       "      <td>2022-07-19 17:30:00</td>\n",
       "      <td>Tuesday</td>\n",
       "      <td>11.027990</td>\n",
       "      <td>87.750000</td>\n",
       "    </tr>\n",
       "    <tr>\n",
       "      <th>82</th>\n",
       "      <td>2022-07-19 17:30:00</td>\n",
       "      <td>Tuesday</td>\n",
       "      <td>10.821531</td>\n",
       "      <td>85.796875</td>\n",
       "    </tr>\n",
       "  </tbody>\n",
       "</table>\n",
       "</div>"
      ],
      "text/plain": [
       "                   time day_of_week  temperature   humidity\n",
       "63  2022-07-19 18:00:00     Tuesday    10.836278  90.923828\n",
       "74  2022-07-19 17:30:00     Tuesday    11.070890  83.843750\n",
       "76  2022-07-19 17:30:00     Tuesday    10.935486  89.214844\n",
       "81  2022-07-19 17:30:00     Tuesday    11.027990  87.750000\n",
       "82  2022-07-19 17:30:00     Tuesday    10.821531  85.796875"
      ]
     },
     "execution_count": 57,
     "metadata": {},
     "output_type": "execute_result"
    }
   ],
   "source": [
    "# remove time difference and replace T with white space\n",
    "df1c.time = df1c.time.str.extract(r'(\\d+-\\d+-\\d+T\\d+:\\d+:\\d+)')\n",
    "df1c.time = df1c.time.str.replace('T',' ')\n",
    "df1c.head()"
   ]
  },
  {
   "cell_type": "code",
   "execution_count": 58,
   "metadata": {
    "id": "fib0zAm333bn"
   },
   "outputs": [
    {
     "data": {
      "text/html": [
       "<div>\n",
       "<style scoped>\n",
       "    .dataframe tbody tr th:only-of-type {\n",
       "        vertical-align: middle;\n",
       "    }\n",
       "\n",
       "    .dataframe tbody tr th {\n",
       "        vertical-align: top;\n",
       "    }\n",
       "\n",
       "    .dataframe thead th {\n",
       "        text-align: right;\n",
       "    }\n",
       "</style>\n",
       "<table border=\"1\" class=\"dataframe\">\n",
       "  <thead>\n",
       "    <tr style=\"text-align: right;\">\n",
       "      <th></th>\n",
       "      <th>time</th>\n",
       "      <th>day_of_week</th>\n",
       "      <th>temperature</th>\n",
       "      <th>humidity</th>\n",
       "    </tr>\n",
       "  </thead>\n",
       "  <tbody>\n",
       "    <tr>\n",
       "      <th>63</th>\n",
       "      <td>2022-07-19 18:00:00</td>\n",
       "      <td>Tuesday</td>\n",
       "      <td>10.836278</td>\n",
       "      <td>90.923828</td>\n",
       "    </tr>\n",
       "    <tr>\n",
       "      <th>74</th>\n",
       "      <td>2022-07-19 17:30:00</td>\n",
       "      <td>Tuesday</td>\n",
       "      <td>11.070890</td>\n",
       "      <td>83.843750</td>\n",
       "    </tr>\n",
       "    <tr>\n",
       "      <th>76</th>\n",
       "      <td>2022-07-19 17:30:00</td>\n",
       "      <td>Tuesday</td>\n",
       "      <td>10.935486</td>\n",
       "      <td>89.214844</td>\n",
       "    </tr>\n",
       "    <tr>\n",
       "      <th>81</th>\n",
       "      <td>2022-07-19 17:30:00</td>\n",
       "      <td>Tuesday</td>\n",
       "      <td>11.027990</td>\n",
       "      <td>87.750000</td>\n",
       "    </tr>\n",
       "    <tr>\n",
       "      <th>82</th>\n",
       "      <td>2022-07-19 17:30:00</td>\n",
       "      <td>Tuesday</td>\n",
       "      <td>10.821531</td>\n",
       "      <td>85.796875</td>\n",
       "    </tr>\n",
       "  </tbody>\n",
       "</table>\n",
       "</div>"
      ],
      "text/plain": [
       "                  time day_of_week  temperature   humidity\n",
       "63 2022-07-19 18:00:00     Tuesday    10.836278  90.923828\n",
       "74 2022-07-19 17:30:00     Tuesday    11.070890  83.843750\n",
       "76 2022-07-19 17:30:00     Tuesday    10.935486  89.214844\n",
       "81 2022-07-19 17:30:00     Tuesday    11.027990  87.750000\n",
       "82 2022-07-19 17:30:00     Tuesday    10.821531  85.796875"
      ]
     },
     "execution_count": 58,
     "metadata": {},
     "output_type": "execute_result"
    }
   ],
   "source": [
    "# reformat the time into standard datetime format\n",
    "df1c.time = pd.to_datetime(df1c.time)\n",
    "df1c.head()"
   ]
  },
  {
   "cell_type": "code",
   "execution_count": 59,
   "metadata": {},
   "outputs": [
    {
     "name": "stdout",
     "output_type": "stream",
     "text": [
      "<class 'pandas.core.frame.DataFrame'>\n",
      "Int64Index: 117755 entries, 63 to 281377\n",
      "Data columns (total 4 columns):\n",
      " #   Column       Non-Null Count   Dtype         \n",
      "---  ------       --------------   -----         \n",
      " 0   time         117755 non-null  datetime64[ns]\n",
      " 1   day_of_week  117755 non-null  object        \n",
      " 2   temperature  117755 non-null  float64       \n",
      " 3   humidity     117755 non-null  float64       \n",
      "dtypes: datetime64[ns](1), float64(2), object(1)\n",
      "memory usage: 4.5+ MB\n"
     ]
    }
   ],
   "source": [
    "# check the format\n",
    "df1c.info()"
   ]
  },
  {
   "cell_type": "markdown",
   "metadata": {},
   "source": [
    "#### The aforementioned tidiness issues are solved. However, since I have dropped some redundant columns, the records can be duplicated now."
   ]
  },
  {
   "cell_type": "code",
   "execution_count": 60,
   "metadata": {
    "scrolled": true
   },
   "outputs": [
    {
     "data": {
      "text/plain": [
       "30"
      ]
     },
     "execution_count": 60,
     "metadata": {},
     "output_type": "execute_result"
    }
   ],
   "source": [
    "# check the duplicated records\n",
    "df1c.duplicated(subset=['time','temperature','humidity']).sum()"
   ]
  },
  {
   "cell_type": "code",
   "execution_count": 61,
   "metadata": {},
   "outputs": [
    {
     "data": {
      "text/plain": [
       "30"
      ]
     },
     "execution_count": 61,
     "metadata": {},
     "output_type": "execute_result"
    }
   ],
   "source": [
    "# check the duplicated record without subsets in case there are any inconsistent day_of_week\n",
    "df1c.duplicated().sum()"
   ]
  },
  {
   "cell_type": "markdown",
   "metadata": {},
   "source": [
    "#### It is good that day_of_week column doesn't show any inconsistency with the time column, but day_of_week is still redundant in this investigation. It can be very useful for further investigations like weekly PM concentrations."
   ]
  },
  {
   "cell_type": "markdown",
   "metadata": {},
   "source": [
    "### We cannot directly drop the duplicates. The duplicated measurements are valuable, so the value should be averaged."
   ]
  },
  {
   "cell_type": "code",
   "execution_count": 62,
   "metadata": {},
   "outputs": [],
   "source": [
    "df1c = df1c.groupby('time').agg('mean',numeric_only=True)"
   ]
  },
  {
   "cell_type": "code",
   "execution_count": 63,
   "metadata": {},
   "outputs": [
    {
     "data": {
      "text/html": [
       "<div>\n",
       "<style scoped>\n",
       "    .dataframe tbody tr th:only-of-type {\n",
       "        vertical-align: middle;\n",
       "    }\n",
       "\n",
       "    .dataframe tbody tr th {\n",
       "        vertical-align: top;\n",
       "    }\n",
       "\n",
       "    .dataframe thead th {\n",
       "        text-align: right;\n",
       "    }\n",
       "</style>\n",
       "<table border=\"1\" class=\"dataframe\">\n",
       "  <thead>\n",
       "    <tr style=\"text-align: right;\">\n",
       "      <th></th>\n",
       "      <th>temperature</th>\n",
       "      <th>humidity</th>\n",
       "    </tr>\n",
       "    <tr>\n",
       "      <th>time</th>\n",
       "      <th></th>\n",
       "      <th></th>\n",
       "    </tr>\n",
       "  </thead>\n",
       "  <tbody>\n",
       "    <tr>\n",
       "      <th>2022-03-11 18:30:00</th>\n",
       "      <td>22.024566</td>\n",
       "      <td>65.728516</td>\n",
       "    </tr>\n",
       "    <tr>\n",
       "      <th>2022-03-11 19:00:00</th>\n",
       "      <td>21.699194</td>\n",
       "      <td>67.828125</td>\n",
       "    </tr>\n",
       "    <tr>\n",
       "      <th>2022-03-11 19:30:00</th>\n",
       "      <td>21.325424</td>\n",
       "      <td>68.434168</td>\n",
       "    </tr>\n",
       "    <tr>\n",
       "      <th>2022-03-11 20:00:00</th>\n",
       "      <td>21.031467</td>\n",
       "      <td>69.732422</td>\n",
       "    </tr>\n",
       "    <tr>\n",
       "      <th>2022-03-11 20:30:00</th>\n",
       "      <td>20.847636</td>\n",
       "      <td>70.375326</td>\n",
       "    </tr>\n",
       "  </tbody>\n",
       "</table>\n",
       "</div>"
      ],
      "text/plain": [
       "                     temperature   humidity\n",
       "time                                       \n",
       "2022-03-11 18:30:00    22.024566  65.728516\n",
       "2022-03-11 19:00:00    21.699194  67.828125\n",
       "2022-03-11 19:30:00    21.325424  68.434168\n",
       "2022-03-11 20:00:00    21.031467  69.732422\n",
       "2022-03-11 20:30:00    20.847636  70.375326"
      ]
     },
     "execution_count": 63,
     "metadata": {},
     "output_type": "execute_result"
    }
   ],
   "source": [
    "df1c.head()"
   ]
  },
  {
   "cell_type": "code",
   "execution_count": 64,
   "metadata": {},
   "outputs": [],
   "source": [
    "# check the duplicates and nulls"
   ]
  },
  {
   "cell_type": "code",
   "execution_count": 65,
   "metadata": {},
   "outputs": [
    {
     "data": {
      "text/plain": [
       "0"
      ]
     },
     "execution_count": 65,
     "metadata": {},
     "output_type": "execute_result"
    }
   ],
   "source": [
    "df1c.duplicated().sum()"
   ]
  },
  {
   "cell_type": "code",
   "execution_count": 66,
   "metadata": {},
   "outputs": [
    {
     "data": {
      "text/plain": [
       "temperature    0\n",
       "humidity       0\n",
       "dtype: int64"
      ]
     },
     "execution_count": 66,
     "metadata": {},
     "output_type": "execute_result"
    }
   ],
   "source": [
    "df1c.isnull().sum()"
   ]
  },
  {
   "cell_type": "markdown",
   "metadata": {},
   "source": [
    "#### Dataset 1 is now cleaned and ready for this study."
   ]
  },
  {
   "cell_type": "code",
   "execution_count": null,
   "metadata": {},
   "outputs": [],
   "source": []
  },
  {
   "cell_type": "markdown",
   "metadata": {
    "id": "o51Bt8kwyTzk"
   },
   "source": [
    "### **Tidiness Issue 2:**\n",
    "* Date and time are separated into two columns\n",
    "* Date and time are not in standard datetime format"
   ]
  },
  {
   "cell_type": "code",
   "execution_count": 67,
   "metadata": {
    "id": "7zW8O5yx4Y9O"
   },
   "outputs": [
    {
     "data": {
      "text/html": [
       "<div>\n",
       "<style scoped>\n",
       "    .dataframe tbody tr th:only-of-type {\n",
       "        vertical-align: middle;\n",
       "    }\n",
       "\n",
       "    .dataframe tbody tr th {\n",
       "        vertical-align: top;\n",
       "    }\n",
       "\n",
       "    .dataframe thead th {\n",
       "        text-align: right;\n",
       "    }\n",
       "</style>\n",
       "<table border=\"1\" class=\"dataframe\">\n",
       "  <thead>\n",
       "    <tr style=\"text-align: right;\">\n",
       "      <th></th>\n",
       "      <th>date</th>\n",
       "      <th>pm_10</th>\n",
       "      <th>pm_25</th>\n",
       "      <th>time_cp</th>\n",
       "    </tr>\n",
       "  </thead>\n",
       "  <tbody>\n",
       "    <tr>\n",
       "      <th>0</th>\n",
       "      <td>19/07/2022</td>\n",
       "      <td>10.2</td>\n",
       "      <td>5.5</td>\n",
       "      <td>01:00</td>\n",
       "    </tr>\n",
       "    <tr>\n",
       "      <th>1</th>\n",
       "      <td>19/07/2022</td>\n",
       "      <td>9.8</td>\n",
       "      <td>8.0</td>\n",
       "      <td>02:00</td>\n",
       "    </tr>\n",
       "    <tr>\n",
       "      <th>2</th>\n",
       "      <td>19/07/2022</td>\n",
       "      <td>8.6</td>\n",
       "      <td>10.8</td>\n",
       "      <td>03:00</td>\n",
       "    </tr>\n",
       "    <tr>\n",
       "      <th>3</th>\n",
       "      <td>19/07/2022</td>\n",
       "      <td>7.6</td>\n",
       "      <td>6.4</td>\n",
       "      <td>04:00</td>\n",
       "    </tr>\n",
       "    <tr>\n",
       "      <th>4</th>\n",
       "      <td>19/07/2022</td>\n",
       "      <td>8.4</td>\n",
       "      <td>8.6</td>\n",
       "      <td>05:00</td>\n",
       "    </tr>\n",
       "  </tbody>\n",
       "</table>\n",
       "</div>"
      ],
      "text/plain": [
       "         date  pm_10  pm_25 time_cp\n",
       "0  19/07/2022   10.2    5.5   01:00\n",
       "1  19/07/2022    9.8    8.0   02:00\n",
       "2  19/07/2022    8.6   10.8   03:00\n",
       "3  19/07/2022    7.6    6.4   04:00\n",
       "4  19/07/2022    8.4    8.6   05:00"
      ]
     },
     "execution_count": 67,
     "metadata": {},
     "output_type": "execute_result"
    }
   ],
   "source": [
    "# The date and time columns should be merged into time column to be consistent with Dataset 1\n",
    "df2c['time_cp'] = df2c.time\n",
    "df2c.drop('time',axis=1,inplace=True)\n",
    "df2c.head()"
   ]
  },
  {
   "cell_type": "code",
   "execution_count": 68,
   "metadata": {},
   "outputs": [
    {
     "data": {
      "text/plain": [
       "array(['01:00', '02:00', '03:00', '04:00', '05:00', '07:00', '08:00',\n",
       "       '09:00', '15:00', '06:00', '10:00', '11:00', '14:00', '16:00',\n",
       "       '17:00', '18:00', '22:00', '23:00', '12:00', '13:00', '19:00',\n",
       "       '20:00', '21:00', '24:00'], dtype=object)"
      ]
     },
     "execution_count": 68,
     "metadata": {},
     "output_type": "execute_result"
    }
   ],
   "source": [
    "# check the hour range (it happened before, those stations never use standard hours....)\n",
    "df2c.time_cp.unique()"
   ]
  },
  {
   "cell_type": "markdown",
   "metadata": {},
   "source": [
    "#### The time values are from 01:00 to 24:00, not 00:00 to 23:00. Need to reformat"
   ]
  },
  {
   "cell_type": "code",
   "execution_count": 69,
   "metadata": {},
   "outputs": [
    {
     "data": {
      "text/plain": [
       "array(['01:00', '02:00', '03:00', '04:00', '05:00', '07:00', '08:00',\n",
       "       '09:00', '15:00', '06:00', '10:00', '11:00', '14:00', '16:00',\n",
       "       '17:00', '18:00', '22:00', '23:00', '12:00', '13:00', '19:00',\n",
       "       '20:00', '21:00', '00:00'], dtype=object)"
      ]
     },
     "execution_count": 69,
     "metadata": {},
     "output_type": "execute_result"
    }
   ],
   "source": [
    "# replace 24:00 with 00:00\n",
    "df2c.time_cp = df2c.time_cp.str.replace('24:00', '00:00')\n",
    "df2c.time_cp.unique()"
   ]
  },
  {
   "cell_type": "markdown",
   "metadata": {},
   "source": [
    "Now combine the date and time_cp columns into a new time column"
   ]
  },
  {
   "cell_type": "code",
   "execution_count": 70,
   "metadata": {
    "id": "q6I_Sr7lxXi5"
   },
   "outputs": [
    {
     "data": {
      "text/html": [
       "<div>\n",
       "<style scoped>\n",
       "    .dataframe tbody tr th:only-of-type {\n",
       "        vertical-align: middle;\n",
       "    }\n",
       "\n",
       "    .dataframe tbody tr th {\n",
       "        vertical-align: top;\n",
       "    }\n",
       "\n",
       "    .dataframe thead th {\n",
       "        text-align: right;\n",
       "    }\n",
       "</style>\n",
       "<table border=\"1\" class=\"dataframe\">\n",
       "  <thead>\n",
       "    <tr style=\"text-align: right;\">\n",
       "      <th></th>\n",
       "      <th>date</th>\n",
       "      <th>pm_10</th>\n",
       "      <th>pm_25</th>\n",
       "      <th>time_cp</th>\n",
       "      <th>time</th>\n",
       "    </tr>\n",
       "  </thead>\n",
       "  <tbody>\n",
       "    <tr>\n",
       "      <th>0</th>\n",
       "      <td>19/07/2022</td>\n",
       "      <td>10.2</td>\n",
       "      <td>5.5</td>\n",
       "      <td>01:00</td>\n",
       "      <td>19/07/2022 01:00</td>\n",
       "    </tr>\n",
       "    <tr>\n",
       "      <th>1</th>\n",
       "      <td>19/07/2022</td>\n",
       "      <td>9.8</td>\n",
       "      <td>8.0</td>\n",
       "      <td>02:00</td>\n",
       "      <td>19/07/2022 02:00</td>\n",
       "    </tr>\n",
       "    <tr>\n",
       "      <th>2</th>\n",
       "      <td>19/07/2022</td>\n",
       "      <td>8.6</td>\n",
       "      <td>10.8</td>\n",
       "      <td>03:00</td>\n",
       "      <td>19/07/2022 03:00</td>\n",
       "    </tr>\n",
       "    <tr>\n",
       "      <th>3</th>\n",
       "      <td>19/07/2022</td>\n",
       "      <td>7.6</td>\n",
       "      <td>6.4</td>\n",
       "      <td>04:00</td>\n",
       "      <td>19/07/2022 04:00</td>\n",
       "    </tr>\n",
       "    <tr>\n",
       "      <th>4</th>\n",
       "      <td>19/07/2022</td>\n",
       "      <td>8.4</td>\n",
       "      <td>8.6</td>\n",
       "      <td>05:00</td>\n",
       "      <td>19/07/2022 05:00</td>\n",
       "    </tr>\n",
       "  </tbody>\n",
       "</table>\n",
       "</div>"
      ],
      "text/plain": [
       "         date  pm_10  pm_25 time_cp              time\n",
       "0  19/07/2022   10.2    5.5   01:00  19/07/2022 01:00\n",
       "1  19/07/2022    9.8    8.0   02:00  19/07/2022 02:00\n",
       "2  19/07/2022    8.6   10.8   03:00  19/07/2022 03:00\n",
       "3  19/07/2022    7.6    6.4   04:00  19/07/2022 04:00\n",
       "4  19/07/2022    8.4    8.6   05:00  19/07/2022 05:00"
      ]
     },
     "execution_count": 70,
     "metadata": {},
     "output_type": "execute_result"
    }
   ],
   "source": [
    "df2c['time'] = df2c[['date','time_cp']].apply(' '.join, axis=1)\n",
    "df2c.head()"
   ]
  },
  {
   "cell_type": "code",
   "execution_count": 71,
   "metadata": {},
   "outputs": [
    {
     "data": {
      "text/html": [
       "<div>\n",
       "<style scoped>\n",
       "    .dataframe tbody tr th:only-of-type {\n",
       "        vertical-align: middle;\n",
       "    }\n",
       "\n",
       "    .dataframe tbody tr th {\n",
       "        vertical-align: top;\n",
       "    }\n",
       "\n",
       "    .dataframe thead th {\n",
       "        text-align: right;\n",
       "    }\n",
       "</style>\n",
       "<table border=\"1\" class=\"dataframe\">\n",
       "  <thead>\n",
       "    <tr style=\"text-align: right;\">\n",
       "      <th></th>\n",
       "      <th>pm_10</th>\n",
       "      <th>pm_25</th>\n",
       "      <th>time</th>\n",
       "    </tr>\n",
       "  </thead>\n",
       "  <tbody>\n",
       "    <tr>\n",
       "      <th>0</th>\n",
       "      <td>10.2</td>\n",
       "      <td>5.5</td>\n",
       "      <td>19/07/2022 01:00</td>\n",
       "    </tr>\n",
       "    <tr>\n",
       "      <th>1</th>\n",
       "      <td>9.8</td>\n",
       "      <td>8.0</td>\n",
       "      <td>19/07/2022 02:00</td>\n",
       "    </tr>\n",
       "    <tr>\n",
       "      <th>2</th>\n",
       "      <td>8.6</td>\n",
       "      <td>10.8</td>\n",
       "      <td>19/07/2022 03:00</td>\n",
       "    </tr>\n",
       "    <tr>\n",
       "      <th>3</th>\n",
       "      <td>7.6</td>\n",
       "      <td>6.4</td>\n",
       "      <td>19/07/2022 04:00</td>\n",
       "    </tr>\n",
       "    <tr>\n",
       "      <th>4</th>\n",
       "      <td>8.4</td>\n",
       "      <td>8.6</td>\n",
       "      <td>19/07/2022 05:00</td>\n",
       "    </tr>\n",
       "  </tbody>\n",
       "</table>\n",
       "</div>"
      ],
      "text/plain": [
       "   pm_10  pm_25              time\n",
       "0   10.2    5.5  19/07/2022 01:00\n",
       "1    9.8    8.0  19/07/2022 02:00\n",
       "2    8.6   10.8  19/07/2022 03:00\n",
       "3    7.6    6.4  19/07/2022 04:00\n",
       "4    8.4    8.6  19/07/2022 05:00"
      ]
     },
     "execution_count": 71,
     "metadata": {},
     "output_type": "execute_result"
    }
   ],
   "source": [
    "# drop date and time_cp\n",
    "df2c.drop(['date','time_cp'],axis=1,inplace=True)\n",
    "df2c.head()"
   ]
  },
  {
   "cell_type": "code",
   "execution_count": 72,
   "metadata": {},
   "outputs": [
    {
     "data": {
      "text/html": [
       "<div>\n",
       "<style scoped>\n",
       "    .dataframe tbody tr th:only-of-type {\n",
       "        vertical-align: middle;\n",
       "    }\n",
       "\n",
       "    .dataframe tbody tr th {\n",
       "        vertical-align: top;\n",
       "    }\n",
       "\n",
       "    .dataframe thead th {\n",
       "        text-align: right;\n",
       "    }\n",
       "</style>\n",
       "<table border=\"1\" class=\"dataframe\">\n",
       "  <thead>\n",
       "    <tr style=\"text-align: right;\">\n",
       "      <th></th>\n",
       "      <th>time</th>\n",
       "      <th>pm_10</th>\n",
       "      <th>pm_25</th>\n",
       "    </tr>\n",
       "  </thead>\n",
       "  <tbody>\n",
       "    <tr>\n",
       "      <th>0</th>\n",
       "      <td>19/07/2022 01:00</td>\n",
       "      <td>10.2</td>\n",
       "      <td>5.5</td>\n",
       "    </tr>\n",
       "    <tr>\n",
       "      <th>1</th>\n",
       "      <td>19/07/2022 02:00</td>\n",
       "      <td>9.8</td>\n",
       "      <td>8.0</td>\n",
       "    </tr>\n",
       "    <tr>\n",
       "      <th>2</th>\n",
       "      <td>19/07/2022 03:00</td>\n",
       "      <td>8.6</td>\n",
       "      <td>10.8</td>\n",
       "    </tr>\n",
       "    <tr>\n",
       "      <th>3</th>\n",
       "      <td>19/07/2022 04:00</td>\n",
       "      <td>7.6</td>\n",
       "      <td>6.4</td>\n",
       "    </tr>\n",
       "    <tr>\n",
       "      <th>4</th>\n",
       "      <td>19/07/2022 05:00</td>\n",
       "      <td>8.4</td>\n",
       "      <td>8.6</td>\n",
       "    </tr>\n",
       "  </tbody>\n",
       "</table>\n",
       "</div>"
      ],
      "text/plain": [
       "               time  pm_10  pm_25\n",
       "0  19/07/2022 01:00   10.2    5.5\n",
       "1  19/07/2022 02:00    9.8    8.0\n",
       "2  19/07/2022 03:00    8.6   10.8\n",
       "3  19/07/2022 04:00    7.6    6.4\n",
       "4  19/07/2022 05:00    8.4    8.6"
      ]
     },
     "execution_count": 72,
     "metadata": {},
     "output_type": "execute_result"
    }
   ],
   "source": [
    "# shift the columns\n",
    "df2c = df2c.iloc[:,np.r_[2,0:2]]\n",
    "df2c.head()"
   ]
  },
  {
   "cell_type": "code",
   "execution_count": 73,
   "metadata": {},
   "outputs": [
    {
     "data": {
      "text/html": [
       "<div>\n",
       "<style scoped>\n",
       "    .dataframe tbody tr th:only-of-type {\n",
       "        vertical-align: middle;\n",
       "    }\n",
       "\n",
       "    .dataframe tbody tr th {\n",
       "        vertical-align: top;\n",
       "    }\n",
       "\n",
       "    .dataframe thead th {\n",
       "        text-align: right;\n",
       "    }\n",
       "</style>\n",
       "<table border=\"1\" class=\"dataframe\">\n",
       "  <thead>\n",
       "    <tr style=\"text-align: right;\">\n",
       "      <th></th>\n",
       "      <th>time</th>\n",
       "      <th>pm_10</th>\n",
       "      <th>pm_25</th>\n",
       "    </tr>\n",
       "  </thead>\n",
       "  <tbody>\n",
       "    <tr>\n",
       "      <th>0</th>\n",
       "      <td>2022-07-19 01:00:00</td>\n",
       "      <td>10.2</td>\n",
       "      <td>5.5</td>\n",
       "    </tr>\n",
       "    <tr>\n",
       "      <th>1</th>\n",
       "      <td>2022-07-19 02:00:00</td>\n",
       "      <td>9.8</td>\n",
       "      <td>8.0</td>\n",
       "    </tr>\n",
       "    <tr>\n",
       "      <th>2</th>\n",
       "      <td>2022-07-19 03:00:00</td>\n",
       "      <td>8.6</td>\n",
       "      <td>10.8</td>\n",
       "    </tr>\n",
       "    <tr>\n",
       "      <th>3</th>\n",
       "      <td>2022-07-19 04:00:00</td>\n",
       "      <td>7.6</td>\n",
       "      <td>6.4</td>\n",
       "    </tr>\n",
       "    <tr>\n",
       "      <th>4</th>\n",
       "      <td>2022-07-19 05:00:00</td>\n",
       "      <td>8.4</td>\n",
       "      <td>8.6</td>\n",
       "    </tr>\n",
       "  </tbody>\n",
       "</table>\n",
       "</div>"
      ],
      "text/plain": [
       "                 time  pm_10  pm_25\n",
       "0 2022-07-19 01:00:00   10.2    5.5\n",
       "1 2022-07-19 02:00:00    9.8    8.0\n",
       "2 2022-07-19 03:00:00    8.6   10.8\n",
       "3 2022-07-19 04:00:00    7.6    6.4\n",
       "4 2022-07-19 05:00:00    8.4    8.6"
      ]
     },
     "execution_count": 73,
     "metadata": {},
     "output_type": "execute_result"
    }
   ],
   "source": [
    "# reformat the datetime\n",
    "df2c.time = pd.to_datetime(df2c.time)\n",
    "df2c.head()"
   ]
  },
  {
   "cell_type": "code",
   "execution_count": 74,
   "metadata": {},
   "outputs": [
    {
     "name": "stdout",
     "output_type": "stream",
     "text": [
      "<class 'pandas.core.frame.DataFrame'>\n",
      "Int64Index: 1503 entries, 0 to 2783\n",
      "Data columns (total 3 columns):\n",
      " #   Column  Non-Null Count  Dtype         \n",
      "---  ------  --------------  -----         \n",
      " 0   time    1503 non-null   datetime64[ns]\n",
      " 1   pm_10   1503 non-null   float64       \n",
      " 2   pm_25   1503 non-null   float64       \n",
      "dtypes: datetime64[ns](1), float64(2)\n",
      "memory usage: 47.0 KB\n"
     ]
    }
   ],
   "source": [
    "# check the format\n",
    "df2c.info()"
   ]
  },
  {
   "cell_type": "code",
   "execution_count": 75,
   "metadata": {},
   "outputs": [
    {
     "data": {
      "text/plain": [
       "0"
      ]
     },
     "execution_count": 75,
     "metadata": {},
     "output_type": "execute_result"
    }
   ],
   "source": [
    "# check the duplicates and nulls\n",
    "df2c.duplicated().sum()"
   ]
  },
  {
   "cell_type": "code",
   "execution_count": 76,
   "metadata": {},
   "outputs": [
    {
     "data": {
      "text/plain": [
       "time     0\n",
       "pm_10    0\n",
       "pm_25    0\n",
       "dtype: int64"
      ]
     },
     "execution_count": 76,
     "metadata": {},
     "output_type": "execute_result"
    }
   ],
   "source": [
    "df2c.isnull().sum()"
   ]
  },
  {
   "cell_type": "markdown",
   "metadata": {},
   "source": [
    "#### Now Dataset 2 is cleaned and ready for the study"
   ]
  },
  {
   "cell_type": "code",
   "execution_count": null,
   "metadata": {},
   "outputs": [],
   "source": []
  },
  {
   "cell_type": "markdown",
   "metadata": {},
   "source": [
    "### **Remove unnecessary variables and combine datasets**\n",
    "\n",
    "Depending on the datasets, you can also peform the combination before the cleaning steps. \n",
    "The redundant columns were already cleaned and dropped in the previous steps. Now to merge the two data."
   ]
  },
  {
   "cell_type": "code",
   "execution_count": 77,
   "metadata": {},
   "outputs": [
    {
     "data": {
      "text/html": [
       "<div>\n",
       "<style scoped>\n",
       "    .dataframe tbody tr th:only-of-type {\n",
       "        vertical-align: middle;\n",
       "    }\n",
       "\n",
       "    .dataframe tbody tr th {\n",
       "        vertical-align: top;\n",
       "    }\n",
       "\n",
       "    .dataframe thead th {\n",
       "        text-align: right;\n",
       "    }\n",
       "</style>\n",
       "<table border=\"1\" class=\"dataframe\">\n",
       "  <thead>\n",
       "    <tr style=\"text-align: right;\">\n",
       "      <th></th>\n",
       "      <th>time</th>\n",
       "      <th>temperature</th>\n",
       "      <th>humidity</th>\n",
       "      <th>pm_10</th>\n",
       "      <th>pm_25</th>\n",
       "    </tr>\n",
       "  </thead>\n",
       "  <tbody>\n",
       "    <tr>\n",
       "      <th>0</th>\n",
       "      <td>2022-03-11 21:00:00</td>\n",
       "      <td>20.417238</td>\n",
       "      <td>72.264509</td>\n",
       "      <td>18.0</td>\n",
       "      <td>6.0</td>\n",
       "    </tr>\n",
       "    <tr>\n",
       "      <th>1</th>\n",
       "      <td>2022-03-11 22:00:00</td>\n",
       "      <td>19.905103</td>\n",
       "      <td>76.550049</td>\n",
       "      <td>15.1</td>\n",
       "      <td>8.0</td>\n",
       "    </tr>\n",
       "    <tr>\n",
       "      <th>2</th>\n",
       "      <td>2022-03-11 23:00:00</td>\n",
       "      <td>19.224961</td>\n",
       "      <td>80.440142</td>\n",
       "      <td>14.1</td>\n",
       "      <td>4.6</td>\n",
       "    </tr>\n",
       "    <tr>\n",
       "      <th>3</th>\n",
       "      <td>2022-04-08 07:00:00</td>\n",
       "      <td>17.154702</td>\n",
       "      <td>94.830078</td>\n",
       "      <td>11.3</td>\n",
       "      <td>2.4</td>\n",
       "    </tr>\n",
       "    <tr>\n",
       "      <th>4</th>\n",
       "      <td>2022-04-08 11:00:00</td>\n",
       "      <td>19.494784</td>\n",
       "      <td>92.388672</td>\n",
       "      <td>10.8</td>\n",
       "      <td>6.1</td>\n",
       "    </tr>\n",
       "  </tbody>\n",
       "</table>\n",
       "</div>"
      ],
      "text/plain": [
       "                 time  temperature   humidity  pm_10  pm_25\n",
       "0 2022-03-11 21:00:00    20.417238  72.264509   18.0    6.0\n",
       "1 2022-03-11 22:00:00    19.905103  76.550049   15.1    8.0\n",
       "2 2022-03-11 23:00:00    19.224961  80.440142   14.1    4.6\n",
       "3 2022-04-08 07:00:00    17.154702  94.830078   11.3    2.4\n",
       "4 2022-04-08 11:00:00    19.494784  92.388672   10.8    6.1"
      ]
     },
     "execution_count": 77,
     "metadata": {},
     "output_type": "execute_result"
    }
   ],
   "source": [
    "df_merged = df1c.merge(df2c, how='inner', on='time')\n",
    "df_merged.head()"
   ]
  },
  {
   "cell_type": "code",
   "execution_count": 78,
   "metadata": {},
   "outputs": [
    {
     "data": {
      "text/plain": [
       "Int64Index([  0,   1,   2,   3,   4,   5,   6,   7,   8,   9,\n",
       "            ...\n",
       "            754, 755, 756, 757, 758, 759, 760, 761, 762, 763],\n",
       "           dtype='int64', length=764)"
      ]
     },
     "execution_count": 78,
     "metadata": {},
     "output_type": "execute_result"
    }
   ],
   "source": [
    "# check index in case of messy index\n",
    "df_merged.index"
   ]
  },
  {
   "cell_type": "markdown",
   "metadata": {
    "id": "F42urHuzttjF"
   },
   "source": [
    "## 4. Update your data store\n",
    "Update your local database/data store with the cleaned data, following best practices for storing your cleaned data:\n",
    "\n",
    "- Must maintain different instances / versions of data (raw and cleaned data)\n",
    "- Must name the dataset files informatively\n",
    "- Ensure both the raw and cleaned data is saved to your database/data store"
   ]
  },
  {
   "cell_type": "code",
   "execution_count": 79,
   "metadata": {},
   "outputs": [
    {
     "name": "stdout",
     "output_type": "stream",
     "text": [
      "Data_Wrangling_Project_Starter.ipynb\r\n",
      "cleaned_hourly_avg_pm_v2.csv\r\n",
      "cleaned_merged_sydney_water_temp_hum_n_hourly_avg_pm_v3.csv\r\n",
      "cleaned_sydney_water_temp_hum_v2.csv\r\n",
      "hourly_avg_pm_v0.csv\r\n",
      "hourly_avg_pm_v1.csv\r\n",
      "sydney_water_temp_hum_v0.csv\r\n",
      "sydney_water_temp_hum_v1.csv\r\n"
     ]
    }
   ],
   "source": [
    "%ls"
   ]
  },
  {
   "cell_type": "code",
   "execution_count": 80,
   "metadata": {
    "id": "V3uay7EJUV_L"
   },
   "outputs": [],
   "source": [
    "#FILL IN - saving data\n",
    "# df1c.to_csv('cleaned_sydney_water_temp_hum_v2.csv',index=False)\n",
    "# df2c.to_csv('cleaned_hourly_avg_pm_v2.csv',index=False)"
   ]
  },
  {
   "cell_type": "code",
   "execution_count": 81,
   "metadata": {},
   "outputs": [],
   "source": [
    "# df_merged.to_csv('cleaned_merged_sydney_water_temp_hum_n_hourly_avg_pm_v3.csv',index=False)"
   ]
  },
  {
   "cell_type": "code",
   "execution_count": 82,
   "metadata": {},
   "outputs": [
    {
     "name": "stdout",
     "output_type": "stream",
     "text": [
      "Data_Wrangling_Project_Starter.ipynb\r\n",
      "cleaned_hourly_avg_pm_v2.csv\r\n",
      "cleaned_merged_sydney_water_temp_hum_n_hourly_avg_pm_v3.csv\r\n",
      "cleaned_sydney_water_temp_hum_v2.csv\r\n",
      "hourly_avg_pm_v0.csv\r\n",
      "hourly_avg_pm_v1.csv\r\n",
      "sydney_water_temp_hum_v0.csv\r\n",
      "sydney_water_temp_hum_v1.csv\r\n"
     ]
    }
   ],
   "source": [
    "%ls"
   ]
  },
  {
   "cell_type": "markdown",
   "metadata": {
    "id": "cGy_yddGtzhM"
   },
   "source": [
    "## 5. Answer the research question\n",
    "\n",
    "### **5.1:** Define and answer the research question \n",
    "Going back to the problem statement in step 1, use the cleaned data to answer the question you raised. Produce **at least** two visualizations using the cleaned data and explain how they help you answer the question."
   ]
  },
  {
   "cell_type": "markdown",
   "metadata": {
    "id": "gjedE4s4ZkEd"
   },
   "source": [
    "*Research question:* \n",
    "* Study on how the PMs are related to the water temperature.\n",
    "* Study on how the PMs are related to the humidity."
   ]
  },
  {
   "cell_type": "code",
   "execution_count": 83,
   "metadata": {
    "id": "Lkw3rW9kZmOm",
    "scrolled": true
   },
   "outputs": [
    {
     "data": {
      "image/png": "[encoded data removed]",
      "text/plain": [
       "<Figure size 1500x600 with 2 Axes>"
      ]
     },
     "metadata": {},
     "output_type": "display_data"
    }
   ],
   "source": [
    "#Visual 1\n",
    "fig, axes = plt.subplots(nrows=1,ncols=2,figsize=(15,6))\n",
    "ax1, ax2 = axes[0], axes[1]\n",
    "ax1.scatter(df_merged.pm_25,df_merged.temperature)\n",
    "ax2.scatter(df_merged.pm_10,df_merged.temperature)\n",
    "ax1.set_title('Correlations between PM2.5 and water temperature')\n",
    "ax2.set_title('Correlations between PM10 and water temperature')\n",
    "ax1.set_ylabel(r'Temperature ($^o$C)')\n",
    "ax1.set_xlabel('PM$_{2.5}$ concentration ($\\mu g$/$m^3$)')\n",
    "ax2.set_xlabel('PM$_{10}$ concentration ($\\mu g$/$m^3$)')\n",
    "plt.show()\n"
   ]
  },
  {
   "cell_type": "markdown",
   "metadata": {},
   "source": [
    "*Answer to research question:* Well, PM$_{2.5}$ and PM$_{10}$ concentrations have not shown any observable correlations with the local water temperature. Further investigation need to be drawn to other physical dimensions."
   ]
  },
  {
   "cell_type": "code",
   "execution_count": 84,
   "metadata": {
    "id": "6fdK_8ZGZm9R"
   },
   "outputs": [
    {
     "data": {
      "image/png": "[encoded data removed]",
      "text/plain": [
       "<Figure size 1500x600 with 2 Axes>"
      ]
     },
     "metadata": {},
     "output_type": "display_data"
    }
   ],
   "source": [
    "#Visual 2\n",
    "fig, axes = plt.subplots(nrows=1,ncols=2,figsize=(15,6))\n",
    "ax1, ax2 = axes[0], axes[1]\n",
    "ax1.scatter(df_merged.pm_25,df_merged.humidity)\n",
    "ax2.scatter(df_merged.pm_10,df_merged.humidity)\n",
    "ax1.set_title('Correlations between PM2.5 and humidity')\n",
    "ax2.set_title('Correlations between PM10 and humidity')\n",
    "ax1.set_ylabel(r'Humidity (%)')\n",
    "ax1.set_xlabel('PM$_{2.5}$ concentration ($\\mu g$/$m^3$)')\n",
    "ax2.set_xlabel('PM$_{10}$ concentration ($\\mu g$/$m^3$)')\n",
    "plt.show()"
   ]
  },
  {
   "cell_type": "markdown",
   "metadata": {
    "id": "K5RgvMGUZoHn"
   },
   "source": [
    "*Answer to research question:* Similarly, both PM$_{2.5}$ and PM$_{10}$ concentrations have not shown any observable correlations with the local humidity. Further investigation need to be drawn to other physical dimensions."
   ]
  },
  {
   "cell_type": "markdown",
   "metadata": {
    "id": "0ezWXXZVj-TP"
   },
   "source": [
    "### **5.2:** Reflection\n",
    "In 2-4 sentences, if you had more time to complete the project, what actions would you take? For example, which data quality and structural issues would you look into further, and what research questions would you further explore?"
   ]
  },
  {
   "cell_type": "markdown",
   "metadata": {
    "id": "XB3RBDG5kFe1"
   },
   "source": [
    "*Answer:* So far, correlations between PMs and water temperature and humidity are not observed. This can be affected by the limited averaging period of the PMs concentrations. Therefore, further investigation would increase the averaging period by grouping the same hours across all days together into a new hourly averaged dataset, in which case the concentrations are expected to be more converged by a larger averaging period."
   ]
  },
  {
   "cell_type": "code",
   "execution_count": null,
   "metadata": {},
   "outputs": [],
   "source": []
  }
 ],
 "metadata": {
  "colab": {
   "provenance": []
  },
  "kernelspec": {
   "display_name": "Python 3 (ipykernel)",
   "language": "python",
   "name": "python3"
  },
  "language_info": {
   "codemirror_mode": {
    "name": "ipython",
    "version": 3
   },
   "file_extension": ".py",
   "mimetype": "text/x-python",
   "name": "python",
   "nbconvert_exporter": "python",
   "pygments_lexer": "ipython3",
   "version": "3.10.13"
  }
 },
 "nbformat": 4,
 "nbformat_minor": 1
}
